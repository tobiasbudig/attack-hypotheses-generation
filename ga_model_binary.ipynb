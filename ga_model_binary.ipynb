{
 "cells": [
  {
   "cell_type": "code",
   "execution_count": 94,
   "metadata": {},
   "outputs": [],
   "source": [
    "import numpy as np\n",
    "import random\n",
    "import matplotlib.pyplot as plt\n",
    "import pandas as pd\n",
    "import datetime"
   ]
  },
  {
   "cell_type": "code",
   "execution_count": 95,
   "metadata": {},
   "outputs": [
    {
     "data": {
      "text/html": [
       "<div>\n",
       "<style scoped>\n",
       "    .dataframe tbody tr th:only-of-type {\n",
       "        vertical-align: middle;\n",
       "    }\n",
       "\n",
       "    .dataframe tbody tr th {\n",
       "        vertical-align: top;\n",
       "    }\n",
       "\n",
       "    .dataframe thead th {\n",
       "        text-align: right;\n",
       "    }\n",
       "</style>\n",
       "<table border=\"1\" class=\"dataframe\">\n",
       "  <thead>\n",
       "    <tr style=\"text-align: right;\">\n",
       "      <th></th>\n",
       "      <th>prop</th>\n",
       "    </tr>\n",
       "  </thead>\n",
       "  <tbody>\n",
       "    <tr>\n",
       "      <th>T1548.002</th>\n",
       "      <td>0.00493189</td>\n",
       "    </tr>\n",
       "    <tr>\n",
       "      <th>T1548.001</th>\n",
       "      <td>0.000469704</td>\n",
       "    </tr>\n",
       "    <tr>\n",
       "      <th>T1134</th>\n",
       "      <td>0.00164396</td>\n",
       "    </tr>\n",
       "    <tr>\n",
       "      <th>T1134.002</th>\n",
       "      <td>0.00164396</td>\n",
       "    </tr>\n",
       "    <tr>\n",
       "      <th>T1134.004</th>\n",
       "      <td>0.000234852</td>\n",
       "    </tr>\n",
       "    <tr>\n",
       "      <th>...</th>\n",
       "      <td>...</td>\n",
       "    </tr>\n",
       "    <tr>\n",
       "      <th>T1102</th>\n",
       "      <td>0.000469704</td>\n",
       "    </tr>\n",
       "    <tr>\n",
       "      <th>T1102.002</th>\n",
       "      <td>0.00516674</td>\n",
       "    </tr>\n",
       "    <tr>\n",
       "      <th>T1102.001</th>\n",
       "      <td>0.00164396</td>\n",
       "    </tr>\n",
       "    <tr>\n",
       "      <th>T1102.003</th>\n",
       "      <td>0.000704556</td>\n",
       "    </tr>\n",
       "    <tr>\n",
       "      <th>T1047</th>\n",
       "      <td>0.00868953</td>\n",
       "    </tr>\n",
       "  </tbody>\n",
       "</table>\n",
       "<p>269 rows × 1 columns</p>\n",
       "</div>"
      ],
      "text/plain": [
       "                  prop\n",
       "T1548.002   0.00493189\n",
       "T1548.001  0.000469704\n",
       "T1134       0.00164396\n",
       "T1134.002   0.00164396\n",
       "T1134.004  0.000234852\n",
       "...                ...\n",
       "T1102      0.000469704\n",
       "T1102.002   0.00516674\n",
       "T1102.001   0.00164396\n",
       "T1102.003  0.000704556\n",
       "T1047       0.00868953\n",
       "\n",
       "[269 rows x 1 columns]"
      ]
     },
     "execution_count": 95,
     "metadata": {},
     "output_type": "execute_result"
    }
   ],
   "source": [
    "# read excel with techniques and probabilities\n",
    "excel_file_X = pd.read_excel(r\"C:\\Users\\Jurek\\Documents\\Uni\\Teamprojekt\\attack-hypotheses-generation\\reduced_table_with_timestamps_and_props.xlsx\", sheet_name=\"X\")\n",
    "excel_file_X = excel_file_X.set_index([\"ID\"])\n",
    "probs = pd.DataFrame(excel_file_X.iloc[0])\n",
    "probs.iloc[0]\n",
    "probs = probs.iloc[1:]\n",
    "probs"
   ]
  },
  {
   "cell_type": "code",
   "execution_count": 96,
   "metadata": {
    "scrolled": true
   },
   "outputs": [],
   "source": [
    "# read csv, convert creation dates to datetime format, sort column creation date\n",
    "# csv_file = pd.read_csv(r\"C:\\Users\\Jurek\\Documents\\Uni\\Teamprojekt\\attack-hypotheses-generation\\matrix-with-timestemps-READY.csv\",sep=\";\")\n",
    "# csv_file_t = csv_file.T\n",
    "# new_header = csv_file_t.iloc[0] #grab the first row for the header\n",
    "# csv_file_t = csv_file_t[1:] #take the data less the header row\n",
    "# csv_file_t.columns = new_header #set the header row as the df header\n",
    "# csv_file_t['created'] = pd.to_datetime(csv_file_t['created'])\n",
    "# csv_file_t\n",
    "# csv_file_t.sort_values(by=['created'])"
   ]
  },
  {
   "cell_type": "code",
   "execution_count": 170,
   "metadata": {},
   "outputs": [],
   "source": [
    "# function to create a starting population\n",
    "def create_starting_population(individuals):\n",
    "    # maybe later: add restriction for amount of ones in chromosome\n",
    "    # population = np.random.randint (2, size=(individuals, len(probs)))\n",
    "    population = np.random.choice([0,1], size=(individuals, len(probs)), p= np.array([0.995,0.005]))\n",
    "    return population"
   ]
  },
  {
   "cell_type": "code",
   "execution_count": 98,
   "metadata": {},
   "outputs": [
    {
     "name": "stdout",
     "output_type": "stream",
     "text": [
      "[[0 0 0 ... 0 0 0]\n",
      " [0 0 0 ... 0 0 0]\n",
      " [0 0 0 ... 0 0 1]\n",
      " [0 1 0 ... 1 0 0]\n",
      " [0 1 0 ... 0 0 0]\n",
      " [0 0 0 ... 1 0 0]]\n"
     ]
    }
   ],
   "source": [
    "# example starting population\n",
    "print (create_starting_population(6))\n"
   ]
  },
  {
   "cell_type": "code",
   "execution_count": 167,
   "metadata": {},
   "outputs": [],
   "source": [
    "# function to calculate fitness of every individual in the current population\n",
    "def calculate_fitness(individuals, probs):\n",
    "    \n",
    "    individuals = np.array(individuals) # individuals = 6x269\n",
    "    probs = np.array (probs) # array with probabilities\n",
    "    ones = np.ones(len(probs)) # number of ones 269x1\n",
    "    occurrences = (individuals @ ones) # number of ones in individual 6x1\n",
    "    \n",
    "#     print (occurrences)\n",
    "#     print (individuals.shape)\n",
    "#     print (probs.shape)\n",
    "    \n",
    "    \n",
    "    \n",
    "    a = 100*(individuals @ probs)\n",
    "    b = (np.subtract(occurrences,11))\n",
    "    c = (b**2)/2 # Wert 2 muss noch angepasst werden\n",
    "    \n",
    "#     target = 100*(individuals @ probs)\n",
    "#     penalty = (np.subtract(occurrences,11))\n",
    "#     for x in penalty:\n",
    "#         if x > 0: # if occurence of 1s is higher than the average of 11\n",
    "#             x = (x**2)/2\n",
    "#         else: # if occurence of 1s is below the average of 11\n",
    "#             x = x*20\n",
    "        \n",
    "    \n",
    "#     print(\"\")\n",
    "#     print (a)\n",
    "#     print(\"\")\n",
    "#     print(occurrences)\n",
    "#     print(\"\")\n",
    "#     print (b)\n",
    "#     print(\"\")\n",
    "#     print (c)\n",
    "    \n",
    "    \n",
    "    fitness_scores = np.subtract(a.T, c)\n",
    "    \n",
    " #   print (fitness_scores)\n",
    "    \n",
    "    return fitness_scores[0]"
   ]
  },
  {
   "cell_type": "code",
   "execution_count": 118,
   "metadata": {},
   "outputs": [],
   "source": [
    "# test1 = create_starting_population(6)\n",
    "# print('Startpopulation')\n",
    "# print(test1)\n",
    "# calculate_fitness(test1, probs)"
   ]
  },
  {
   "cell_type": "code",
   "execution_count": 101,
   "metadata": {},
   "outputs": [],
   "source": [
    "#function to select individuals by using tournament selection\n",
    "def select_individual_by_tournament(population, scores):\n",
    "#     print (population)\n",
    "#     print (\"pop - scores\")\n",
    "#     print (scores)\n",
    "    \n",
    "    # get population size\n",
    "    population_size = len(scores)\n",
    "    \n",
    "\n",
    "    # pick individuals for tournament\n",
    "    fighter_1 = random.randint(0, population_size-1)\n",
    "    fighter_2 = random.randint(0, population_size-1)\n",
    "    \n",
    "    # get fitness score for each individual\n",
    "    fighter_1_fitness = scores[fighter_1]\n",
    "    fighter_2_fitness = scores[fighter_2]\n",
    "    \n",
    "#     print(\"fighter_1_fitness\")\n",
    "#     print (scores[0])\n",
    "    \n",
    "    # identify undividual with highest fitness\n",
    "    # fighter 1 will win if scores are equal\n",
    "    if fighter_1_fitness >= fighter_2_fitness:\n",
    "        winner = fighter_1\n",
    "    else:\n",
    "        winner = fighter_2\n",
    "    \n",
    "    #return the chromsome of the winner\n",
    "    return population[winner, :]"
   ]
  },
  {
   "cell_type": "code",
   "execution_count": null,
   "metadata": {},
   "outputs": [],
   "source": [
    "# function to select individuals by using roulette wheel selection\n",
    "# cannot be used yet, since it does not accept negative fitness values\n",
    "# fitness value will represent the selection probability, which can't be negative\n",
    "# idea1: normalise fitness values\n",
    "# idea2: subtract the lowest (negative) value from all fitness values. The lowest fitness value is now zero.\n",
    "def select_individual_by_roulette(population, k, scores): # list of individuals to select from, number of individuals to select, attribute to use as selection criteria\n",
    "    s_inds = sorted(individuals, key = attrgetter(scores), reverse = True)\n",
    "    sum_sc = sum(getattr(ind, scores).values[0] for ind in population)\n",
    "    chosen = []\n",
    "    for i in range(k):\n",
    "        u = random.random()*sum_sc\n",
    "        sum1 = 0\n",
    "        for ind in s_inds:\n",
    "            sum1 += getattr(ind, scores).values[0]\n",
    "            if sum1 > u:\n",
    "                chosen.append(ind)\n",
    "                break\n",
    "            \n",
    "    return chosen"
   ]
  },
  {
   "cell_type": "code",
   "execution_count": 102,
   "metadata": {},
   "outputs": [],
   "source": [
    "# function for executing one point crossover\n",
    "# def breed_by_crossover_1point(parent_1, parent_2):\n",
    "#     # get length of chromosome\n",
    "#     chromosome_length = min(len(parent_1), len(parent_2))\n",
    "    \n",
    "#     # pick crossover point, avoding ends of chromsome\n",
    "#     crossover_point = random.randint(1,chromosome_length-1)\n",
    "    \n",
    "#     # create children. np.hstack joins two arrays\n",
    "#     child_1 = np.hstack((parent_1[0:crossover_point],\n",
    "#                         parent_2[crossover_point:]))\n",
    "    \n",
    "#     child_2 = np.hstack((parent_2[0:crossover_point],\n",
    "#                         parent_1[crossover_point:]))\n",
    "    \n",
    "#     # return children\n",
    "#     return child_1, child_2"
   ]
  },
  {
   "cell_type": "code",
   "execution_count": 104,
   "metadata": {},
   "outputs": [],
   "source": [
    "# function for executing one point crossover\n",
    "def breed_by_crossover_1point(ind1, ind2):\n",
    "    chromosome_length = min(len(ind1), len(ind2))\n",
    "    crossover_point = random.randint(1, chromosome_length-1)\n",
    "    \n",
    "    ind1[crossover_point:], ind2[crossover_point:] = ind2[crossover_point:], ind1[crossover_point:]\n",
    "    \n",
    "    return ind1, ind2"
   ]
  },
  {
   "cell_type": "code",
   "execution_count": 105,
   "metadata": {},
   "outputs": [],
   "source": [
    "# function for executin two point crossover\n",
    "def breed_by_crossover_2point(ind1, ind2):\n",
    "    chromosome_length = min(len(ind1), len(ind2))\n",
    "    crossover_point1 = random.randint(1, chromosome_length)\n",
    "    crossover_point2 = random.randint(1, chromosome_length-1)\n",
    "    \n",
    "    if crossover_point2 >= crossover_point1:\n",
    "        crossover_point2 += 1\n",
    "    else: # swapping the two crossover points\n",
    "        crossover_point1, crossover_point2 = crossover_point2, crossover_point1\n",
    "        \n",
    "    ind1[crossover_point1: crossover_point2], ind2[crossover_point1: crossover_point2] \\\n",
    "        = ind2[crossover_point1: crossover_point2], ind1[crossover_point1: crossover_point2]\n",
    "    \n",
    "    return ind1, ind2"
   ]
  },
  {
   "cell_type": "code",
   "execution_count": 109,
   "metadata": {},
   "outputs": [],
   "source": [
    "# function for executing uniform crossover\n",
    "def breed_by_crossover_uniform(ind1, ind2, indpb):\n",
    "    # parameter indpb is the indipendent probability for each bit to be exchanged\n",
    "    # get length of chromosome\n",
    "    chromosome_length = min(len(ind1), len(ind2))\n",
    "    \n",
    "    for i in range(chromosome_length):\n",
    "        if random.random() < indpb: #add: lower probability that 0 --> 1 than the probability that 1 --> 0\n",
    "    \n",
    "    return ind1, ind2"
   ]
  },
  {
   "cell_type": "code",
   "execution_count": 107,
   "metadata": {},
   "outputs": [],
   "source": [
    "# function to mutate population\n",
    "def randomly_mutate_population(population, mutation_probability):\n",
    "    \n",
    "    # apply random mutation\n",
    "        random_mutation_array = np.random.random(\n",
    "            size=(population.shape))\n",
    "        \n",
    "        random_mutation_boolean = \\\n",
    "            random_mutation_array <= mutation_probability\n",
    "\n",
    "        population[random_mutation_boolean] = \\\n",
    "        np.logical_not(population[random_mutation_boolean])\n",
    "        \n",
    "        # return mutation population\n",
    "        return population"
   ]
  },
  {
   "cell_type": "code",
   "execution_count": 180,
   "metadata": {
    "scrolled": false
   },
   "outputs": [
    {
     "name": "stdout",
     "output_type": "stream",
     "text": [
      "Starting best score: -25.0\n",
      "End best score 33.0\n",
      "[12. 12. 12. 14. 14. 13. 12. 17. 13. 15. 14. 13. 13. 14. 12. 15. 13. 12.\n",
      " 15. 14.]\n"
     ]
    },
    {
     "data": {
      "image/png": "[encoded data removed]",
      "text/plain": [
       "<Figure size 432x288 with 1 Axes>"
      ]
     },
     "metadata": {
      "needs_background": "light"
     },
     "output_type": "display_data"
    }
   ],
   "source": [
    "# main algorithm code\n",
    "# set general parameters\n",
    "chromosome_length = len(probs)\n",
    "population_size = 20\n",
    "maximum_generation = 2000 # tested with 1000 generations, 250 to 300 generations seems reasonable for iterations\n",
    "best_score_progress = [] # tracks progress\n",
    "\n",
    "# create starting population\n",
    "population = create_starting_population(population_size)\n",
    "\n",
    "# print (population)\n",
    "# display best score in starting population\n",
    "scores = calculate_fitness(population, probs)\n",
    "best_score = np.max(scores)\n",
    "print ('Starting best score: %.1f' %best_score)\n",
    "\n",
    "# add starting best score to progress tracker\n",
    "best_score_progress.append(best_score)\n",
    "\n",
    "# going through the generations of genetic algorithm\n",
    "for generation in range(maximum_generation):\n",
    "    # create an empty list for new population\n",
    "    new_population = []\n",
    "    \n",
    "    # create new popualtion generating two children at a time\n",
    "    for i in range(int(population_size/2)):\n",
    "        parent_1 = select_individual_by_tournament(population, scores)\n",
    "        parent_2 = select_individual_by_tournament(population, scores)\n",
    "        #child_1, child_2 = breed_by_crossover_1point(parent_1, parent_2)\n",
    "        #child_1, child_2 = breed_by_crossover_2point(parent_1, parent_2) # Results are not as promising as with the others\n",
    "        child_1, child_2 = breed_by_crossover_uniform(parent_1, parent_2, 0.5)\n",
    "        new_population.append(child_1)\n",
    "        new_population.append(child_2)\n",
    "    \n",
    "    # replace the old population with the new one\n",
    "    population = np.array(new_population)\n",
    "    \n",
    "    # apply mutation\n",
    "    mutation_rate = 0.002\n",
    "    population = randomly_mutate_population(population, mutation_rate)\n",
    "\n",
    "    # score best solution, and add to tracker\n",
    "    scores = calculate_fitness(population, probs)\n",
    "    best_score = np.max(scores)\n",
    "    best_score_progress.append(best_score)\n",
    "    \n",
    "    # print(best_score)\n",
    "\n",
    "# GA has completed required generation number\n",
    "print ('End best score %.1f' %best_score)\n",
    "\n",
    "ones = np.ones(len(probs)) # number of ones 269x1\n",
    "occurrences = (population @ ones)\n",
    "print (occurrences)\n",
    "\n",
    "# plot progress\n",
    "%matplotlib inline\n",
    "plt.plot(best_score_progress)\n",
    "plt.xlabel('Generation')\n",
    "plt.ylabel('Best score (% target)')\n",
    "plt.show()"
   ]
  },
  {
   "cell_type": "code",
   "execution_count": null,
   "metadata": {},
   "outputs": [],
   "source": [
    "# Frage Flo: Was können wir in unsere ZF reinmachen, sodass eine Software mit z.B. 5 Techniken besser ist, als z.B. eine mit 15 Techniken"
   ]
  },
  {
   "cell_type": "code",
   "execution_count": 174,
   "metadata": {},
   "outputs": [
    {
     "name": "stdout",
     "output_type": "stream",
     "text": [
      "T1071.001\n",
      "T1547.001\n",
      "T1543.003\n",
      "T1132\n",
      "T1499\n",
      "T1611\n",
      "T1562.006\n",
      "T1070.004\n",
      "T1036.001\n",
      "T1003.004\n",
      "T1003.001\n",
      "T1518\n"
     ]
    }
   ],
   "source": [
    "i = 0\n",
    "for row in probs.index: \n",
    "    if population [0][i] == 1:\n",
    "        print(row)\n",
    "    i+=1        "
   ]
  },
  {
   "cell_type": "code",
   "execution_count": null,
   "metadata": {},
   "outputs": [],
   "source": [
    "# bestes Individuum mit der gesamten Matrix vergleichen und mit den letzten 20% vergleichen"
   ]
  },
  {
   "cell_type": "code",
   "execution_count": null,
   "metadata": {},
   "outputs": [],
   "source": []
  },
  {
   "cell_type": "code",
   "execution_count": null,
   "metadata": {},
   "outputs": [],
   "source": []
  }
 ],
 "metadata": {
  "kernelspec": {
   "display_name": "Python 3",
   "language": "python",
   "name": "python3"
  },
  "language_info": {
   "codemirror_mode": {
    "name": "ipython",
    "version": 3
   },
   "file_extension": ".py",
   "mimetype": "text/x-python",
   "name": "python",
   "nbconvert_exporter": "python",
   "pygments_lexer": "ipython3",
   "version": "3.8.5"
  }
 },
 "nbformat": 4,
 "nbformat_minor": 4
}
