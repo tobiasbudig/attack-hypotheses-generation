{
 "cells": [
  {
   "cell_type": "code",
   "execution_count": 1,
   "metadata": {},
   "outputs": [],
   "source": [
    "import numpy as np\n",
    "import random\n",
    "import matplotlib.pyplot as plt"
   ]
  },
  {
   "cell_type": "code",
   "execution_count": 2,
   "metadata": {},
   "outputs": [],
   "source": [
    "# function to create reference solution\n",
    "def create_reference_solution(chromosome_length):\n",
    "    # create Array with random mix of ones and zeros\n",
    "    reference = np.random.randint(2, size=chromosome_length) \n",
    "    np.random.shuffle(reference)\n",
    "    \n",
    "    return reference"
   ]
  },
  {
   "cell_type": "code",
   "execution_count": 3,
   "metadata": {},
   "outputs": [
    {
     "name": "stdout",
     "output_type": "stream",
     "text": [
      "[1 1 1 1 0 1 0 0 1 1 1 1 0 1 0 0 0 0 0 0]\n"
     ]
    }
   ],
   "source": [
    "#example target array\n",
    "print (create_reference_solution(20))"
   ]
  },
  {
   "cell_type": "code",
   "execution_count": 4,
   "metadata": {},
   "outputs": [],
   "source": [
    "# function to create a starting population\n",
    "def create_starting_population(individuals, chromosome_length):\n",
    "    # Set up an initial 2d array of random zeros and ones, one row represents one individual\n",
    "    population = np.random.randint(2, size=(individuals, chromosome_length))\n",
    "    return population"
   ]
  },
  {
   "cell_type": "code",
   "execution_count": 5,
   "metadata": {},
   "outputs": [
    {
     "name": "stdout",
     "output_type": "stream",
     "text": [
      "[[1 0 0 1 1 1 0 1 1 0 1 0 0 0 1 0 1 1 1 0]\n",
      " [0 1 1 1 0 0 1 1 1 0 1 1 1 0 1 0 1 0 1 1]\n",
      " [0 1 1 1 0 0 0 1 1 0 1 1 1 0 1 0 1 0 1 0]\n",
      " [1 1 1 0 1 0 1 0 1 0 0 1 0 1 0 0 1 1 0 1]\n",
      " [1 1 1 1 1 1 1 1 0 0 0 0 0 0 1 1 1 0 1 1]\n",
      " [1 0 0 0 0 1 1 1 0 0 1 0 0 1 1 0 0 1 0 0]]\n"
     ]
    }
   ],
   "source": [
    "# example starting population\n",
    "print (create_starting_population(6, 20))"
   ]
  },
  {
   "cell_type": "code",
   "execution_count": 6,
   "metadata": {},
   "outputs": [],
   "source": [
    "# function to calculate fitness of every individual\n",
    "def calculate_fitness(reference, population):\n",
    "    # create an array of True/False compared to reference\n",
    "    identical_to_reference = population == reference\n",
    "    # sum number of genes that are identical to the reference\n",
    "    fitness_scores = identical_to_reference.sum(axis=1)\n",
    "    \n",
    "    return fitness_scores"
   ]
  },
  {
   "cell_type": "code",
   "execution_count": 7,
   "metadata": {},
   "outputs": [
    {
     "name": "stdout",
     "output_type": "stream",
     "text": [
      "Reference solution: \n",
      " [1 0 1 0 0 0 0 0 1 1]\n",
      "\n",
      "Starting population: \n",
      " [[0 1 0 1 0 0 1 1 1 1]\n",
      " [0 1 0 1 1 0 1 0 0 0]\n",
      " [0 0 1 1 0 0 0 1 0 1]\n",
      " [1 0 0 1 0 1 1 0 1 1]\n",
      " [1 1 1 1 0 0 0 0 1 1]\n",
      " [0 0 0 0 1 1 1 1 1 0]]\n",
      "\n",
      "Fitness scores: \n",
      " [4 2 6 6 8 3]\n"
     ]
    }
   ],
   "source": [
    "# example reference solution with starting population and related fitness scores\n",
    "reference = create_reference_solution(10)\n",
    "print ('Reference solution: \\n', reference)\n",
    "population = create_starting_population(6, 10)\n",
    "print ('\\nStarting population: \\n', population)\n",
    "scores = calculate_fitness(reference, population)\n",
    "print('\\nFitness scores: \\n', scores)"
   ]
  },
  {
   "cell_type": "code",
   "execution_count": 8,
   "metadata": {},
   "outputs": [],
   "source": [
    "#function to select individuals by using tournament selection\n",
    "def select_individual_by_tournament(population, scores):\n",
    "    # get population size\n",
    "    population_size = len(scores)\n",
    "    \n",
    "    # pick individuals for tournament\n",
    "    fighter_1 = random.randint(0, population_size-1)\n",
    "    fighter_2 = random.randint(0, population_size-1)\n",
    "    \n",
    "    # get fitness score for each individual\n",
    "    fighter_1_fitness = scores[fighter_1]\n",
    "    fighter_2_fitness = scores[fighter_2]\n",
    "    \n",
    "    # identify undividual with highest fitness\n",
    "    # fighter 1 will win if scores are equal\n",
    "    if fighter_1_fitness >= fighter_2_fitness:\n",
    "        winner = fighter_1\n",
    "    else:\n",
    "        winner = fighter_2\n",
    "    \n",
    "    #return the chromsome of the winner\n",
    "    return population[winner, :]"
   ]
  },
  {
   "cell_type": "code",
   "execution_count": 9,
   "metadata": {},
   "outputs": [
    {
     "name": "stdout",
     "output_type": "stream",
     "text": [
      "[1 0 0 1 0 1 1 0 1 1]\n",
      "[1 0 0 1 0 1 1 0 1 1]\n"
     ]
    }
   ],
   "source": [
    "# example parent selection\n",
    "# pick two parents and display them\n",
    "parent_1 = select_individual_by_tournament(population, scores)\n",
    "parent_2 = select_individual_by_tournament(population, scores)\n",
    "print (parent_1)\n",
    "print (parent_2)"
   ]
  },
  {
   "cell_type": "code",
   "execution_count": 10,
   "metadata": {},
   "outputs": [],
   "source": [
    "def breed_by_crossover(parent_1, parent_2):\n",
    "    # get length of chromosome\n",
    "    chromosome_length = len(parent_1)\n",
    "    \n",
    "    # pick crossover point, avoding ends of chromsome\n",
    "    crossover_point = random.randint(1,chromosome_length-1)\n",
    "    \n",
    "    # create children. np.hstack joins two arrays\n",
    "    child_1 = np.hstack((parent_1[0:crossover_point],\n",
    "                        parent_2[crossover_point:]))\n",
    "    \n",
    "    child_2 = np.hstack((parent_2[0:crossover_point],\n",
    "                        parent_1[crossover_point:]))\n",
    "    \n",
    "    # return children\n",
    "    return child_1, child_2"
   ]
  },
  {
   "cell_type": "code",
   "execution_count": 11,
   "metadata": {},
   "outputs": [
    {
     "name": "stdout",
     "output_type": "stream",
     "text": [
      "Parents\n",
      "[0 0 0 1 1 1 1 1 1 0 0 0 1 1 0]\n",
      "[0 1 0 1 0 0 1 1 1 0 1 0 1 0 0]\n",
      "Children\n",
      "[0 1 0 1 0 0 1 1 1 0 1 0 1 0 0]\n",
      "[0 0 0 1 1 1 1 1 1 0 0 0 1 1 0]\n"
     ]
    }
   ],
   "source": [
    "# example breeding children\n",
    "# set up and score population\n",
    "reference = create_reference_solution(15)\n",
    "population = create_starting_population(100, 15)\n",
    "scores = calculate_fitness(reference, population)\n",
    "\n",
    "# pick two parents and display them\n",
    "parent_1 = select_individual_by_tournament(population, scores)\n",
    "parent_2 = select_individual_by_tournament(population, scores)\n",
    "\n",
    "# get children\n",
    "child_1, child_2 = breed_by_crossover(parent_1, parent_2)\n",
    "\n",
    "# show output\n",
    "print ('Parents')\n",
    "print (parent_1)\n",
    "print (parent_2)\n",
    "print ('Children')\n",
    "print (child_1)\n",
    "print (child_2)"
   ]
  },
  {
   "cell_type": "code",
   "execution_count": 12,
   "metadata": {},
   "outputs": [],
   "source": [
    "# function to mutate population\n",
    "def randomly_mutate_population(population, mutation_probability):\n",
    "    \n",
    "    # apply random mutation\n",
    "        random_mutation_array = np.random.random(\n",
    "            size=(population.shape))\n",
    "        \n",
    "        random_mutation_boolean = \\\n",
    "            random_mutation_array <= mutation_probability\n",
    "\n",
    "        population[random_mutation_boolean] = \\\n",
    "        np.logical_not(population[random_mutation_boolean])\n",
    "        \n",
    "        # return mutation population\n",
    "        return population"
   ]
  },
  {
   "cell_type": "code",
   "execution_count": 13,
   "metadata": {},
   "outputs": [
    {
     "name": "stdout",
     "output_type": "stream",
     "text": [
      "Population before mutation\n",
      "[[1 0 1 0 0 0 0 0 0 1 0 0 0 1 1]\n",
      " [0 0 1 1 0 1 0 1 0 1 1 1 1 0 1]]\n",
      "Population after mutation\n",
      "[[1 0 1 0 0 0 0 0 0 1 0 0 0 1 1]\n",
      " [0 0 1 1 0 1 0 1 0 1 1 1 1 0 1]]\n"
     ]
    }
   ],
   "source": [
    "# example mutating population\n",
    "# set up and score population\n",
    "reference = create_reference_solution(15)\n",
    "population = create_starting_population(100, 15)\n",
    "scores = calculate_fitness(reference, population)\n",
    "\n",
    "# pick two parents and display\n",
    "parent_1 = select_individual_by_tournament(population, scores)\n",
    "parent_2 = select_individual_by_tournament(population, scores)\n",
    "\n",
    "# get children and make new population \n",
    "child_1, child_2 = breed_by_crossover(parent_1, parent_2)\n",
    "population = np.stack((child_1, child_2))\n",
    "\n",
    "# mutate population\n",
    "mutation_probability = 0.1\n",
    "print (\"Population before mutation\")\n",
    "print (population)\n",
    "population = randomly_mutate_population(population, mutation_probability)\n",
    "print (\"Population after mutation\")\n",
    "print (population)"
   ]
  },
  {
   "cell_type": "code",
   "execution_count": 14,
   "metadata": {},
   "outputs": [
    {
     "name": "stdout",
     "output_type": "stream",
     "text": [
      "Starting best score, percent target: 58.7\n",
      "End best score, percent target: 100.0\n"
     ]
    },
    {
     "data": {
      "image/png": "[encoded data removed]",
      "text/plain": [
       "<Figure size 432x288 with 1 Axes>"
      ]
     },
     "metadata": {
      "needs_background": "light"
     },
     "output_type": "display_data"
    }
   ],
   "source": [
    "# main algorithm code\n",
    "# set general parameters\n",
    "chromosome_length = 300\n",
    "population_size = 500\n",
    "maximum_generation = 500\n",
    "best_score_progress = [] # tracks progress\n",
    "\n",
    "# create reference solution \n",
    "reference = create_reference_solution(chromosome_length)\n",
    "\n",
    "# create starting population\n",
    "population = create_starting_population(population_size, chromosome_length)\n",
    "\n",
    "# display best score in starting population\n",
    "scores = calculate_fitness(reference, population)\n",
    "best_score = np.max(scores)/chromosome_length * 100\n",
    "print ('Starting best score, percent target: %.1f' %best_score)\n",
    "\n",
    "# add starting best score to progress tracker\n",
    "best_score_progress.append(best_score)\n",
    "\n",
    "# going through the generations of genetic algorithm\n",
    "for generation in range(maximum_generation):\n",
    "    # create an empty list for new population\n",
    "    new_population = []\n",
    "    \n",
    "    # create new popualtion generating two children at a time\n",
    "    for i in range(int(population_size/2)):\n",
    "        parent_1 = select_individual_by_tournament(population, scores)\n",
    "        parent_2 = select_individual_by_tournament(population, scores)\n",
    "        child_1, child_2 = breed_by_crossover(parent_1, parent_2)\n",
    "        new_population.append(child_1)\n",
    "        new_population.append(child_2)\n",
    "    \n",
    "    # replace the old population with the new one\n",
    "    population = np.array(new_population)\n",
    "    \n",
    "    # apply mutation\n",
    "    mutation_rate = 0.002\n",
    "    population = randomly_mutate_population(population, mutation_rate)\n",
    "\n",
    "    # score best solution, and add to tracker\n",
    "    scores = calculate_fitness(reference, population)\n",
    "    best_score = np.max(scores)/chromosome_length * 100\n",
    "    best_score_progress.append(best_score)\n",
    "\n",
    "# GA has completed required generation number\n",
    "print ('End best score, percent target: %.1f' %best_score)\n",
    "\n",
    "# plot progress\n",
    "%matplotlib inline\n",
    "plt.plot(best_score_progress)\n",
    "plt.xlabel('Generation')\n",
    "plt.ylabel('Best score (% target)')\n",
    "plt.show()"
   ]
  },
  {
   "cell_type": "code",
   "execution_count": null,
   "metadata": {},
   "outputs": [],
   "source": []
  }
 ],
 "metadata": {
  "kernelspec": {
   "display_name": "Python 3",
   "language": "python",
   "name": "python3"
  },
  "language_info": {
   "codemirror_mode": {
    "name": "ipython",
    "version": 3
   },
   "file_extension": ".py",
   "mimetype": "text/x-python",
   "name": "python",
   "nbconvert_exporter": "python",
   "pygments_lexer": "ipython3",
   "version": "3.8.5"
  }
 },
 "nbformat": 4,
 "nbformat_minor": 4
}
