{
 "cells": [
  {
   "cell_type": "code",
   "execution_count": 74,
   "metadata": {},
   "outputs": [],
   "source": [
    "import numpy as np\n",
    "import random\n",
    "import matplotlib.pyplot as plt\n",
    "import pandas as pd\n",
    "import datetime"
   ]
  },
  {
   "cell_type": "code",
   "execution_count": 75,
   "metadata": {},
   "outputs": [
    {
     "data": {
      "text/html": [
       "<div>\n",
       "<style scoped>\n",
       "    .dataframe tbody tr th:only-of-type {\n",
       "        vertical-align: middle;\n",
       "    }\n",
       "\n",
       "    .dataframe tbody tr th {\n",
       "        vertical-align: top;\n",
       "    }\n",
       "\n",
       "    .dataframe thead th {\n",
       "        text-align: right;\n",
       "    }\n",
       "</style>\n",
       "<table border=\"1\" class=\"dataframe\">\n",
       "  <thead>\n",
       "    <tr style=\"text-align: right;\">\n",
       "      <th></th>\n",
       "      <th>prop</th>\n",
       "    </tr>\n",
       "  </thead>\n",
       "  <tbody>\n",
       "    <tr>\n",
       "      <th>T1548.002</th>\n",
       "      <td>0.00493189</td>\n",
       "    </tr>\n",
       "    <tr>\n",
       "      <th>T1548.001</th>\n",
       "      <td>0.000469704</td>\n",
       "    </tr>\n",
       "    <tr>\n",
       "      <th>T1134</th>\n",
       "      <td>0.00164396</td>\n",
       "    </tr>\n",
       "    <tr>\n",
       "      <th>T1134.002</th>\n",
       "      <td>0.00164396</td>\n",
       "    </tr>\n",
       "    <tr>\n",
       "      <th>T1134.004</th>\n",
       "      <td>0.000234852</td>\n",
       "    </tr>\n",
       "    <tr>\n",
       "      <th>...</th>\n",
       "      <td>...</td>\n",
       "    </tr>\n",
       "    <tr>\n",
       "      <th>T1102</th>\n",
       "      <td>0.000469704</td>\n",
       "    </tr>\n",
       "    <tr>\n",
       "      <th>T1102.002</th>\n",
       "      <td>0.00516674</td>\n",
       "    </tr>\n",
       "    <tr>\n",
       "      <th>T1102.001</th>\n",
       "      <td>0.00164396</td>\n",
       "    </tr>\n",
       "    <tr>\n",
       "      <th>T1102.003</th>\n",
       "      <td>0.000704556</td>\n",
       "    </tr>\n",
       "    <tr>\n",
       "      <th>T1047</th>\n",
       "      <td>0.00868953</td>\n",
       "    </tr>\n",
       "  </tbody>\n",
       "</table>\n",
       "<p>269 rows × 1 columns</p>\n",
       "</div>"
      ],
      "text/plain": [
       "                  prop\n",
       "T1548.002   0.00493189\n",
       "T1548.001  0.000469704\n",
       "T1134       0.00164396\n",
       "T1134.002   0.00164396\n",
       "T1134.004  0.000234852\n",
       "...                ...\n",
       "T1102      0.000469704\n",
       "T1102.002   0.00516674\n",
       "T1102.001   0.00164396\n",
       "T1102.003  0.000704556\n",
       "T1047       0.00868953\n",
       "\n",
       "[269 rows x 1 columns]"
      ]
     },
     "execution_count": 75,
     "metadata": {},
     "output_type": "execute_result"
    }
   ],
   "source": [
    "# read excel with techniques and probabilities\n",
    "excel_file_X = pd.read_excel(r\"C:\\Users\\Jurek\\Documents\\Uni\\Teamprojekt\\attack-hypotheses-generation\\reduced_table_with_timestamps_and_props.xlsx\", sheet_name=\"X\")\n",
    "excel_file_X = excel_file_X.set_index([\"ID\"])\n",
    "probs = pd.DataFrame(excel_file_X.iloc[0])\n",
    "probs.iloc[0]\n",
    "probs = probs.iloc[1:]\n",
    "probs"
   ]
  },
  {
   "cell_type": "code",
   "execution_count": 39,
   "metadata": {
    "scrolled": true
   },
   "outputs": [],
   "source": [
    "# # read csv, convert creation dates to datetime format, sort column creation date\n",
    "# csv_file = pd.read_csv(r\"C:\\Users\\Jurek\\Documents\\Uni\\Teamprojekt\\attack-hypotheses-generation\\matrix-with-timestemps-READY.csv\",sep=\";\")\n",
    "# csv_file_t = csv_file.T\n",
    "# new_header = csv_file_t.iloc[0] #grab the first row for the header\n",
    "# csv_file_t = csv_file_t[1:] #take the data less the header row\n",
    "# csv_file_t.columns = new_header #set the header row as the df header\n",
    "# csv_file_t['created'] = pd.to_datetime(csv_file_t['created'])\n",
    "# csv_file_t\n",
    "# csv_file_t.sort_values(by=['created'])"
   ]
  },
  {
   "cell_type": "code",
   "execution_count": 40,
   "metadata": {},
   "outputs": [],
   "source": [
    "# # read excel with technique probabilities and calculate P(ID)\n",
    "# prob_table = pd.read_excel(r\"C:\\Users\\Jurek\\Documents\\Uni\\Teamprojekt\\attack-hypotheses-generation\\simulation\\technique-proba-over-4.xlsx\", usecols=[\"ID\",\"prozent\"])\n",
    "# prob_table[\"P(ID)\"] = prob_table[\"prozent\"] /100\n",
    "# prob_table = prob_table.drop([\"prozent\"], axis=1)\n",
    "# prob_table.set_index([\"ID\"])"
   ]
  },
  {
   "cell_type": "code",
   "execution_count": 7,
   "metadata": {},
   "outputs": [],
   "source": [
    "# function to create reference solution\n",
    "# def create_reference_solution(chromosome_length):\n",
    "#     # create Array with random mix of ones and zeros\n",
    "#     reference = np.random.randint(2, size=chromosome_length) \n",
    "#     np.random.shuffle(reference)\n",
    "    \n",
    "#     return reference"
   ]
  },
  {
   "cell_type": "code",
   "execution_count": 8,
   "metadata": {},
   "outputs": [
    {
     "name": "stdout",
     "output_type": "stream",
     "text": [
      "[1 0 1 1 1 0 0 1 0 1 1 0 0 1 0 1 0 0 1 0]\n"
     ]
    }
   ],
   "source": [
    "#example target array\n",
    "# print (create_reference_solution(20))"
   ]
  },
  {
   "cell_type": "code",
   "execution_count": 160,
   "metadata": {},
   "outputs": [],
   "source": [
    "# function to create a starting population\n",
    "def create_starting_population(individuals):\n",
    "    # maybe later: add restriction for amount of ones in chromosome\n",
    "    # population = np.random.randint (2, size=(individuals, len(probs)))\n",
    "    population = np.random.choice([0,1], size=(individuals, len(probs)), p= np.array([0.8,0.2]))\n",
    "    return population"
   ]
  },
  {
   "cell_type": "code",
   "execution_count": 9,
   "metadata": {},
   "outputs": [],
   "source": [
    "# function to create a starting population\n",
    "# def create_starting_population(individuals, chromosome_length):\n",
    "    # Set up an initial 2d array of random zeros and ones, one row represents one individual\n",
    "   # population = np.random.randint(2, size=(individuals, chromosome_length))\n",
    "   # return population"
   ]
  },
  {
   "cell_type": "code",
   "execution_count": 38,
   "metadata": {},
   "outputs": [
    {
     "name": "stdout",
     "output_type": "stream",
     "text": [
      "[[0 1 0 ... 1 1 1]\n",
      " [1 0 1 ... 1 0 1]\n",
      " [1 0 1 ... 0 0 0]\n",
      " [0 0 1 ... 0 1 1]\n",
      " [1 0 1 ... 1 0 1]\n",
      " [0 0 0 ... 1 1 1]]\n"
     ]
    }
   ],
   "source": [
    "# example starting population\n",
    "print (create_starting_population(6))\n"
   ]
  },
  {
   "cell_type": "code",
   "execution_count": 173,
   "metadata": {},
   "outputs": [],
   "source": [
    "# function to calculate fitness of every individual in the current population\n",
    "def calculate_fitness(individuals, probs):\n",
    "    \n",
    "    individuals = np.array(individuals)\n",
    "    probs = np.array (probs)\n",
    "    ones = np.ones(len(probs)) \n",
    "    occurrences = (individuals @ ones)\n",
    "    \n",
    "#     print (occurrences)\n",
    "#     print (individuals.shape)\n",
    "#     print (probs.shape)\n",
    "    \n",
    "    a = 5*(individuals @ probs)\n",
    "    b = (np.subtract(11,occurrences))\n",
    "    c = -1*(b**2)/100 # Wert 20 muss noch angepasst werden\n",
    "    \n",
    "#     print(\"\")\n",
    "#     print (a)\n",
    "#     print(\"\")\n",
    "#     print (b)\n",
    "#     print(\"\")\n",
    "#     print (c)\n",
    "    \n",
    "    \n",
    "    fitness_scores = np.multiply(a.T,c)\n",
    "    \n",
    "#    print (fitness_scores)\n",
    "    \n",
    "    return fitness_scores[0]"
   ]
  },
  {
   "cell_type": "code",
   "execution_count": 152,
   "metadata": {},
   "outputs": [
    {
     "data": {
      "text/plain": [
       "array([-439.9806247064349, -364.123391263504, -547.4658994833255,\n",
       "       -368.33067167684334, -258.51917566932815, -341.2306247064348],\n",
       "      dtype=object)"
      ]
     },
     "execution_count": 152,
     "metadata": {},
     "output_type": "execute_result"
    }
   ],
   "source": [
    "test1 = create_starting_population(6)\n",
    "calculate_fitness(test1, probs)"
   ]
  },
  {
   "cell_type": "code",
   "execution_count": 11,
   "metadata": {},
   "outputs": [],
   "source": [
    "# function to calculate fitness of every individual\n",
    "# def calculate_fitness(reference, population):\n",
    "    # create an array of True/False compared to reference\n",
    "    #identical_to_reference = population == reference\n",
    "    # sum number of genes that are identical to the reference\n",
    "   # fitness_scores = identical_to_reference.sum(axis=1)\n",
    "    \n",
    "    #return fitness_scores"
   ]
  },
  {
   "cell_type": "code",
   "execution_count": 12,
   "metadata": {},
   "outputs": [
    {
     "name": "stdout",
     "output_type": "stream",
     "text": [
      "Reference solution: \n",
      " [1 1 1 1 1 0 1 0 1 1]\n",
      "\n",
      "Starting population: \n",
      " [[1 1 1 1 1 0 0 0 1 0]\n",
      " [0 0 0 1 0 1 0 0 1 0]\n",
      " [0 0 0 1 0 0 1 1 1 0]\n",
      " [1 0 0 0 1 0 0 1 0 1]\n",
      " [1 1 0 0 1 0 1 0 0 1]\n",
      " [1 0 0 1 1 1 1 1 1 1]]\n",
      "\n",
      "Fitness scores: \n",
      " [8 3 4 4 7 6]\n"
     ]
    }
   ],
   "source": [
    "# example reference solution with starting population and related fitness scores\n",
    "# reference = create_reference_solution(10)\n",
    "# print ('Reference solution: \\n', reference)\n",
    "# population = create_starting_population(6, 10)\n",
    "# print ('\\nStarting population: \\n', population)\n",
    "# scores = calculate_fitness(reference, population)\n",
    "# print('\\nFitness scores: \\n', scores)"
   ]
  },
  {
   "cell_type": "code",
   "execution_count": 149,
   "metadata": {},
   "outputs": [],
   "source": [
    "#function to select individuals by using tournament selection\n",
    "def select_individual_by_tournament(population, scores):\n",
    "#     print (population)\n",
    "#     print (\"pop - scores\")\n",
    "#     print (scores)\n",
    "    \n",
    "    # get population size\n",
    "    population_size = len(scores)\n",
    "    \n",
    "\n",
    "    # pick individuals for tournament\n",
    "    fighter_1 = random.randint(0, population_size-1)\n",
    "    fighter_2 = random.randint(0, population_size-1)\n",
    "    \n",
    "    # get fitness score for each individual\n",
    "    fighter_1_fitness = scores[fighter_1]\n",
    "    fighter_2_fitness = scores[fighter_2]\n",
    "    \n",
    "#     print(\"fighter_1_fitness\")\n",
    "#     print (scores[0])\n",
    "    \n",
    "    # identify undividual with highest fitness\n",
    "    # fighter 1 will win if scores are equal\n",
    "    if fighter_1_fitness >= fighter_2_fitness:\n",
    "        winner = fighter_1\n",
    "    else:\n",
    "        winner = fighter_2\n",
    "    \n",
    "    #return the chromsome of the winner\n",
    "    return population[winner, :]"
   ]
  },
  {
   "cell_type": "code",
   "execution_count": 14,
   "metadata": {},
   "outputs": [
    {
     "name": "stdout",
     "output_type": "stream",
     "text": [
      "[1 1 1 1 1 0 0 0 1 0]\n",
      "[0 0 0 1 0 0 1 1 1 0]\n"
     ]
    }
   ],
   "source": [
    "# # example parent selection\n",
    "# # pick two parents and display them\n",
    "# parent_1 = select_individual_by_tournament(population, scores)\n",
    "# parent_2 = select_individual_by_tournament(population, scores)\n",
    "# print (parent_1)\n",
    "# print (parent_2)"
   ]
  },
  {
   "cell_type": "code",
   "execution_count": 126,
   "metadata": {},
   "outputs": [],
   "source": [
    "def breed_by_crossover(parent_1, parent_2):\n",
    "    # get length of chromosome\n",
    "    chromosome_length = len(parent_1)\n",
    "    \n",
    "    # pick crossover point, avoding ends of chromsome\n",
    "    crossover_point = random.randint(1,chromosome_length-1)\n",
    "    \n",
    "    # create children. np.hstack joins two arrays\n",
    "    child_1 = np.hstack((parent_1[0:crossover_point],\n",
    "                        parent_2[crossover_point:]))\n",
    "    \n",
    "    child_2 = np.hstack((parent_2[0:crossover_point],\n",
    "                        parent_1[crossover_point:]))\n",
    "    \n",
    "    # return children\n",
    "    return child_1, child_2"
   ]
  },
  {
   "cell_type": "code",
   "execution_count": 16,
   "metadata": {},
   "outputs": [
    {
     "name": "stdout",
     "output_type": "stream",
     "text": [
      "Parents\n",
      "[0 1 1 0 1 1 0 1 1 0 0 0 0 0 1]\n",
      "[1 1 1 1 1 0 0 0 0 1 1 1 1 1 1]\n",
      "Children\n",
      "[0 1 1 0 1 1 0 0 0 1 1 1 1 1 1]\n",
      "[1 1 1 1 1 0 0 1 1 0 0 0 0 0 1]\n"
     ]
    }
   ],
   "source": [
    "# # example breeding children\n",
    "# # set up and score population\n",
    "# reference = create_reference_solution(15)\n",
    "# population = create_starting_population(100, 15)\n",
    "# scores = calculate_fitness(reference, population)\n",
    "\n",
    "# # pick two parents and display them\n",
    "# parent_1 = select_individual_by_tournament(population, scores)\n",
    "# parent_2 = select_individual_by_tournament(population, scores)\n",
    "\n",
    "# # get children\n",
    "# child_1, child_2 = breed_by_crossover(parent_1, parent_2)\n",
    "\n",
    "# # show output\n",
    "# print ('Parents')\n",
    "# print (parent_1)\n",
    "# print (parent_2)\n",
    "# print ('Children')\n",
    "# print (child_1)\n",
    "# print (child_2)"
   ]
  },
  {
   "cell_type": "code",
   "execution_count": 144,
   "metadata": {},
   "outputs": [],
   "source": [
    "# function to mutate population\n",
    "def randomly_mutate_population(population, mutation_probability):\n",
    "    \n",
    "    # apply random mutation\n",
    "        random_mutation_array = np.random.random(\n",
    "            size=(population.shape))\n",
    "        \n",
    "        random_mutation_boolean = \\\n",
    "            random_mutation_array <= mutation_probability\n",
    "\n",
    "        population[random_mutation_boolean] = \\\n",
    "        np.logical_not(population[random_mutation_boolean])\n",
    "        \n",
    "        # return mutation population\n",
    "        return population"
   ]
  },
  {
   "cell_type": "code",
   "execution_count": 18,
   "metadata": {},
   "outputs": [
    {
     "name": "stdout",
     "output_type": "stream",
     "text": [
      "Population before mutation\n",
      "[[0 1 0 0 0 1 1 0 0 0 1 1 0 1 0]\n",
      " [0 1 0 0 0 1 1 1 0 1 1 0 0 1 0]]\n",
      "Population after mutation\n",
      "[[0 1 0 1 0 1 1 0 0 0 1 1 0 1 0]\n",
      " [0 1 0 0 0 1 1 1 0 1 1 0 0 1 0]]\n"
     ]
    }
   ],
   "source": [
    "# # example mutating population\n",
    "# # set up and score population\n",
    "# reference = create_reference_solution(15)\n",
    "# population = create_starting_population(100, 15)\n",
    "# scores = calculate_fitness(reference, population)\n",
    "\n",
    "# # pick two parents and display\n",
    "# parent_1 = select_individual_by_tournament(population, scores)\n",
    "# parent_2 = select_individual_by_tournament(population, scores)\n",
    "\n",
    "# # get children and make new population \n",
    "# child_1, child_2 = breed_by_crossover(parent_1, parent_2)\n",
    "# population = np.stack((child_1, child_2))\n",
    "\n",
    "# # mutate population\n",
    "# mutation_probability = 0.1\n",
    "# print (\"Population before mutation\")\n",
    "# print (population)\n",
    "# population = randomly_mutate_population(population, mutation_probability)\n",
    "# print (\"Population after mutation\")\n",
    "# print (population)"
   ]
  },
  {
   "cell_type": "code",
   "execution_count": 174,
   "metadata": {
    "scrolled": false
   },
   "outputs": [
    {
     "name": "stdout",
     "output_type": "stream",
     "text": [
      "Starting best score, percent target: -5.7\n",
      "End best score, percent target: -0.0\n"
     ]
    },
    {
     "data": {
      "image/png": "[encoded data removed]",
      "text/plain": [
       "<Figure size 432x288 with 1 Axes>"
      ]
     },
     "metadata": {
      "needs_background": "light"
     },
     "output_type": "display_data"
    }
   ],
   "source": [
    "# main algorithm code\n",
    "# set general parameters\n",
    "chromosome_length = len(probs)\n",
    "population_size = 10\n",
    "maximum_generation = 300\n",
    "best_score_progress = [] # tracks progress\n",
    "\n",
    "# create starting population\n",
    "population = create_starting_population(population_size)\n",
    "\n",
    "# print (population)\n",
    "# display best score in starting population\n",
    "scores = calculate_fitness(population, probs)\n",
    "best_score = np.max(scores)\n",
    "print ('Starting best score, percent target: %.1f' %best_score)\n",
    "\n",
    "# add starting best score to progress tracker\n",
    "best_score_progress.append(best_score)\n",
    "\n",
    "# going through the generations of genetic algorithm\n",
    "for generation in range(maximum_generation):\n",
    "    # create an empty list for new population\n",
    "    new_population = []\n",
    "    \n",
    "    # create new popualtion generating two children at a time\n",
    "    for i in range(int(population_size/2)):\n",
    "        parent_1 = select_individual_by_tournament(population, scores)\n",
    "        parent_2 = select_individual_by_tournament(population, scores)\n",
    "        child_1, child_2 = breed_by_crossover(parent_1, parent_2)\n",
    "        new_population.append(child_1)\n",
    "        new_population.append(child_2)\n",
    "    \n",
    "    # replace the old population with the new one\n",
    "    population = np.array(new_population)\n",
    "    \n",
    "    # apply mutation\n",
    "    mutation_rate = 0.002\n",
    "    population = randomly_mutate_population(population, mutation_rate)\n",
    "\n",
    "    # score best solution, and add to tracker\n",
    "    scores = calculate_fitness(population, probs)\n",
    "    best_score = np.max(scores)\n",
    "    best_score_progress.append(best_score)\n",
    "\n",
    "# GA has completed required generation number\n",
    "print ('End best score, percent target: %.1f' %best_score)\n",
    "\n",
    "# plot progress\n",
    "%matplotlib inline\n",
    "plt.plot(best_score_progress)\n",
    "plt.xlabel('Generation')\n",
    "plt.ylabel('Best score (% target)')\n",
    "plt.show()"
   ]
  },
  {
   "cell_type": "code",
   "execution_count": null,
   "metadata": {},
   "outputs": [],
   "source": []
  }
 ],
 "metadata": {
  "kernelspec": {
   "display_name": "Python 3",
   "language": "python",
   "name": "python3"
  },
  "language_info": {
   "codemirror_mode": {
    "name": "ipython",
    "version": 3
   },
   "file_extension": ".py",
   "mimetype": "text/x-python",
   "name": "python",
   "nbconvert_exporter": "python",
   "pygments_lexer": "ipython3",
   "version": "3.8.5"
  }
 },
 "nbformat": 4,
 "nbformat_minor": 4
}
