{
 "cells": [
  {
   "cell_type": "code",
   "execution_count": 16,
   "metadata": {},
   "outputs": [
    {
     "name": "stdout",
     "output_type": "stream",
     "text": [
      "Type: <class 'list'>\n",
      "\n",
      "People1: 4H RAT\n"
     ]
    }
   ],
   "source": [
    "# importing the module\n",
    "import json\n",
    "  \n",
    "# Opening JSON file\n",
    "with open('complete_data.txt') as json_file:\n",
    "    data = json.load(json_file)\n",
    "  \n",
    "    # Print the type of data variable\n",
    "    print(\"Type:\", type(data))\n",
    "\n",
    "    i = 0\n",
    "    for software in data:\n",
    "        #if(i > 5): break\n",
    "        j = 0\n",
    "        for technique in software[\"technique_data\"]:\n",
    "            software[j] = technique[\"technique_id\"]\n",
    "            j = j + 1 \n",
    "        i = i + 1\n",
    "  \n",
    "    # Print the data of dictionary\n",
    "    print(\"\\nPeople1:\", data[1][\"software_name\"])\n",
    "    #print(\"\\nPeople2:\", data['people2'])"
   ]
  },
  {
   "cell_type": "code",
   "execution_count": 19,
   "metadata": {},
   "outputs": [
    {
     "name": "stdout",
     "output_type": "stream",
     "text": [
      "    software_name software_id software_type software_platform  \\\n",
      "0       3PARA RAT       S0066       MALWARE           Windows   \n",
      "1          4H RAT       S0065       MALWARE           Windows   \n",
      "2             ABK       S0469       MALWARE           Windows   \n",
      "3          adbupd       S0202       MALWARE           Windows   \n",
      "4          AdFind       S0552          TOOL           Windows   \n",
      "..            ...         ...           ...               ...   \n",
      "513         ZeroT       S0230       MALWARE           Windows   \n",
      "514    Zeus Panda       S0330       MALWARE           Windows   \n",
      "515          ZLib       S0086       MALWARE           Windows   \n",
      "516       zwShell       S0350       MALWARE           Windows   \n",
      "517       ZxShell       S0412     Sensocode           MALWARE   \n",
      "\n",
      "     software_created                                     technique_data  \\\n",
      "0         31 May 2017  [{'technique_id': 'T1071', 'technique_name': '...   \n",
      "1         31 May 2017  [{'technique_id': 'T1071', 'technique_name': '...   \n",
      "2        10 June 2020  [{'technique_id': 'T1071', 'technique_name': '...   \n",
      "3                 1.1  [{'technique_id': 'T1059', 'technique_name': '...   \n",
      "4    28 December 2020  [{'technique_id': 'T1087', 'technique_name': '...   \n",
      "..                ...                                                ...   \n",
      "513     18 April 2018  [{'technique_id': 'T1548', 'technique_name': '...   \n",
      "514   29 January 2019  [{'technique_id': 'T1071', 'technique_name': '...   \n",
      "515       31 May 2017  [{'technique_id': 'T1071', 'technique_name': '...   \n",
      "516   30 January 2019  [{'technique_id': 'T1059', 'technique_name': '...   \n",
      "517               1.1  [{'technique_id': 'T1134', 'technique_name': '...   \n",
      "\n",
      "         0      1      2      3  ...   61   62   63   64   65   66   67   68  \\\n",
      "0    T1071  T1573  T1083  T1070  ...  NaN  NaN  NaN  NaN  NaN  NaN  NaN  NaN   \n",
      "1    T1071  T1059  T1573  T1083  ...  NaN  NaN  NaN  NaN  NaN  NaN  NaN  NaN   \n",
      "2    T1071  T1059  T1140  T1105  ...  NaN  NaN  NaN  NaN  NaN  NaN  NaN  NaN   \n",
      "3    T1059  T1573  T1546    NaN  ...  NaN  NaN  NaN  NaN  NaN  NaN  NaN  NaN   \n",
      "4    T1087  T1482  T1069  T1018  ...  NaN  NaN  NaN  NaN  NaN  NaN  NaN  NaN   \n",
      "..     ...    ...    ...    ...  ...  ...  ...  ...  ...  ...  ...  ...  ...   \n",
      "513  T1548  T1071  T1543  T1001  ...  NaN  NaN  NaN  NaN  NaN  NaN  NaN  NaN   \n",
      "514  T1071  T1547  T1115  T1059  ...  NaN  NaN  NaN  NaN  NaN  NaN  NaN  NaN   \n",
      "515  T1071  T1560  T1059  T1543  ...  NaN  NaN  NaN  NaN  NaN  NaN  NaN  NaN   \n",
      "516  T1059  T1543  T1083  T1070  ...  NaN  NaN  NaN  NaN  NaN  NaN  NaN  NaN   \n",
      "517  T1134  T1071         T1059  ...  NaN  NaN  NaN  NaN  NaN  NaN  NaN  NaN   \n",
      "\n",
      "      69   70  \n",
      "0    NaN  NaN  \n",
      "1    NaN  NaN  \n",
      "2    NaN  NaN  \n",
      "3    NaN  NaN  \n",
      "4    NaN  NaN  \n",
      "..   ...  ...  \n",
      "513  NaN  NaN  \n",
      "514  NaN  NaN  \n",
      "515  NaN  NaN  \n",
      "516  NaN  NaN  \n",
      "517  NaN  NaN  \n",
      "\n",
      "[518 rows x 77 columns]\n"
     ]
    }
   ],
   "source": [
    "import pandas as pd\n",
    "\n",
    "\n",
    "\n",
    "#df = pd.DataFrame (data, columns = ['software_name','software_id',\"software_type\", \"software_platform\", \"software_created\", \"technique_data\"])\n",
    "\n",
    "df = pd.DataFrame (data)\n",
    "\n",
    "print (df)\n",
    "\n",
    "df.to_csv('excel.csv', sep=\";\")"
   ]
  },
  {
   "cell_type": "code",
   "execution_count": null,
   "metadata": {},
   "outputs": [],
   "source": []
  }
 ],
 "metadata": {
  "kernelspec": {
   "display_name": "Python 3",
   "language": "python",
   "name": "python3"
  },
  "language_info": {
   "codemirror_mode": {
    "name": "ipython",
    "version": 3
   },
   "file_extension": ".py",
   "mimetype": "text/x-python",
   "name": "python",
   "nbconvert_exporter": "python",
   "pygments_lexer": "ipython3",
   "version": "3.8.3"
  }
 },
 "nbformat": 4,
 "nbformat_minor": 2
}
