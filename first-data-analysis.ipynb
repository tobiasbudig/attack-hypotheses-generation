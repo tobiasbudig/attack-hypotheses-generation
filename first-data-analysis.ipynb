{
 "metadata": {
  "language_info": {
   "codemirror_mode": {
    "name": "ipython",
    "version": 3
   },
   "file_extension": ".py",
   "mimetype": "text/x-python",
   "name": "python",
   "nbconvert_exporter": "python",
   "pygments_lexer": "ipython3",
   "version": "3.8.3"
  },
  "orig_nbformat": 2,
  "kernelspec": {
   "name": "python383jvsc74a57bd037f4921bae58e346cec60061775182038441e9fc4fe0fea8414462b8bac7a819",
   "display_name": "Python 3.8.3 64-bit ('base': conda)"
  }
 },
 "nbformat": 4,
 "nbformat_minor": 2,
 "cells": [
  {
   "cell_type": "code",
   "execution_count": 16,
   "metadata": {},
   "outputs": [
    {
     "output_type": "stream",
     "name": "stdout",
     "text": [
      "Type: <class 'list'>\n\nPeople1: 4H RAT\n"
     ]
    }
   ],
   "source": [
    "# importing the module\n",
    "import json\n",
    "  \n",
    "# Opening JSON file\n",
    "with open('complete_data.txt') as json_file:\n",
    "    data = json.load(json_file)\n",
    "  \n",
    "    # Print the type of data variable\n",
    "    print(\"Type:\", type(data))\n",
    "\n",
    "    i = 0\n",
    "    for software in data:\n",
    "        #if(i > 5): break\n",
    "        j = 0\n",
    "        for technique in software[\"technique_data\"]:\n",
    "            software[j] = technique[\"technique_id\"]\n",
    "            j = j + 1 \n",
    "        i = i + 1\n",
    "  \n",
    "    # Print the data of dictionary\n",
    "    print(\"\\nPeople1:\", data[1][\"software_name\"])\n",
    "    #print(\"\\nPeople2:\", data['people2'])"
   ]
  },
  {
   "cell_type": "code",
   "execution_count": 19,
   "metadata": {},
   "outputs": [
    {
     "output_type": "stream",
     "name": "stdout",
     "text": [
      "    software_name software_id software_type software_platform  \\\n0       3PARA RAT       S0066       MALWARE           Windows   \n1          4H RAT       S0065       MALWARE           Windows   \n2             ABK       S0469       MALWARE           Windows   \n3          adbupd       S0202       MALWARE           Windows   \n4          AdFind       S0552          TOOL           Windows   \n..            ...         ...           ...               ...   \n513         ZeroT       S0230       MALWARE           Windows   \n514    Zeus Panda       S0330       MALWARE           Windows   \n515          ZLib       S0086       MALWARE           Windows   \n516       zwShell       S0350       MALWARE           Windows   \n517       ZxShell       S0412     Sensocode           MALWARE   \n\n     software_created                                     technique_data  \\\n0         31 May 2017  [{'technique_id': 'T1071', 'technique_name': '...   \n1         31 May 2017  [{'technique_id': 'T1071', 'technique_name': '...   \n2        10 June 2020  [{'technique_id': 'T1071', 'technique_name': '...   \n3                 1.1  [{'technique_id': 'T1059', 'technique_name': '...   \n4    28 December 2020  [{'technique_id': 'T1087', 'technique_name': '...   \n..                ...                                                ...   \n513     18 April 2018  [{'technique_id': 'T1548', 'technique_name': '...   \n514   29 January 2019  [{'technique_id': 'T1071', 'technique_name': '...   \n515       31 May 2017  [{'technique_id': 'T1071', 'technique_name': '...   \n516   30 January 2019  [{'technique_id': 'T1059', 'technique_name': '...   \n517               1.1  [{'technique_id': 'T1134', 'technique_name': '...   \n\n         0      1      2      3  ...   61   62   63   64   65   66   67   68  \\\n0    T1071  T1573  T1083  T1070  ...  NaN  NaN  NaN  NaN  NaN  NaN  NaN  NaN   \n1    T1071  T1059  T1573  T1083  ...  NaN  NaN  NaN  NaN  NaN  NaN  NaN  NaN   \n2    T1071  T1059  T1140  T1105  ...  NaN  NaN  NaN  NaN  NaN  NaN  NaN  NaN   \n3    T1059  T1573  T1546    NaN  ...  NaN  NaN  NaN  NaN  NaN  NaN  NaN  NaN   \n4    T1087  T1482  T1069  T1018  ...  NaN  NaN  NaN  NaN  NaN  NaN  NaN  NaN   \n..     ...    ...    ...    ...  ...  ...  ...  ...  ...  ...  ...  ...  ...   \n513  T1548  T1071  T1543  T1001  ...  NaN  NaN  NaN  NaN  NaN  NaN  NaN  NaN   \n514  T1071  T1547  T1115  T1059  ...  NaN  NaN  NaN  NaN  NaN  NaN  NaN  NaN   \n515  T1071  T1560  T1059  T1543  ...  NaN  NaN  NaN  NaN  NaN  NaN  NaN  NaN   \n516  T1059  T1543  T1083  T1070  ...  NaN  NaN  NaN  NaN  NaN  NaN  NaN  NaN   \n517  T1134  T1071         T1059  ...  NaN  NaN  NaN  NaN  NaN  NaN  NaN  NaN   \n\n      69   70  \n0    NaN  NaN  \n1    NaN  NaN  \n2    NaN  NaN  \n3    NaN  NaN  \n4    NaN  NaN  \n..   ...  ...  \n513  NaN  NaN  \n514  NaN  NaN  \n515  NaN  NaN  \n516  NaN  NaN  \n517  NaN  NaN  \n\n[518 rows x 77 columns]\n"
     ]
    }
   ],
   "source": [
    "import pandas as pd\n",
    "\n",
    "\n",
    "\n",
    "#df = pd.DataFrame (data, columns = ['software_name','software_id',\"software_type\", \"software_platform\", \"software_created\", \"technique_data\"])\n",
    "\n",
    "df = pd.DataFrame (data)\n",
    "\n",
    "print (df)\n",
    "\n",
    "df.to_csv('excel.csv', sep=\";\")"
   ]
  },
  {
   "cell_type": "code",
   "execution_count": null,
   "metadata": {},
   "outputs": [],
   "source": []
  }
 ]
}