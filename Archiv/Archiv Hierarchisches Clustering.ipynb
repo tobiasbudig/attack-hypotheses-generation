{
 "cells": [
  {
   "cell_type": "code",
   "execution_count": null,
   "metadata": {},
   "outputs": [],
   "source": [
    "# needed imports\n",
    "from matplotlib import pyplot as plt\n",
    "import scipy.cluster.hierarchy as sch\n",
    "import numpy as np\n",
    "import pandas as pd\n",
    "from scipy.cluster.hierarchy import ward, fcluster, cut_tree\n",
    "from scipy.spatial.distance import pdist\n",
    "from sklearn.metrics import matthews_corrcoef\n",
    "import phik\n",
    "from openpyxl import load_workbook"
   ]
  },
  {
   "cell_type": "code",
   "execution_count": null,
   "metadata": {},
   "outputs": [],
   "source": [
    "#Import Data, droping Summe and ID\n",
    "X_original = pd.read_excel(\"./Data with time stemps reduced.xlsx\", \"Matrix with time\").drop(columns=['Summe', 'Unnamed: 491', 'Unnamed: 492', 'Unnamed: 493', 'Unnamed: 494', 'Unnamed: 495'])\n",
    "X = X_original.drop(columns=['ID'], index = 0)\n",
    "software = list(X.columns)\n",
    "\n",
    "\n",
    "X_transpose = X.transpose()\n",
    "#created = list(X_transpose[0])\n",
    "X_transpose = X.transpose()\n",
    "\n",
    "X_original.set_index('ID', inplace = True)\n",
    "X"
   ]
  },
  {
   "cell_type": "code",
   "execution_count": 1,
   "metadata": {},
   "outputs": [
    {
     "ename": "NameError",
     "evalue": "name 'sch' is not defined",
     "output_type": "error",
     "traceback": [
      "\u001b[0;31m---------------------------------------------------------------------------\u001b[0m",
      "\u001b[0;31mNameError\u001b[0m                                 Traceback (most recent call last)",
      "\u001b[0;32m<ipython-input-1-fbe3dfbc80e2>\u001b[0m in \u001b[0;36m<module>\u001b[0;34m\u001b[0m\n\u001b[1;32m      1\u001b[0m \u001b[0;31m#Euclidean and ward\u001b[0m\u001b[0;34m\u001b[0m\u001b[0;34m\u001b[0m\u001b[0;34m\u001b[0m\u001b[0m\n\u001b[1;32m      2\u001b[0m \u001b[0;34m\u001b[0m\u001b[0m\n\u001b[0;32m----> 3\u001b[0;31m \u001b[0mZ_euclidean\u001b[0m \u001b[0;34m=\u001b[0m \u001b[0msch\u001b[0m\u001b[0;34m.\u001b[0m\u001b[0mlinkage\u001b[0m\u001b[0;34m(\u001b[0m\u001b[0mX_transpose\u001b[0m\u001b[0;34m,\u001b[0m \u001b[0mmethod\u001b[0m \u001b[0;34m=\u001b[0m \u001b[0;34m'ward'\u001b[0m\u001b[0;34m,\u001b[0m \u001b[0mmetric\u001b[0m\u001b[0;34m=\u001b[0m \u001b[0;34m'euclidean'\u001b[0m\u001b[0;34m)\u001b[0m\u001b[0;34m\u001b[0m\u001b[0;34m\u001b[0m\u001b[0m\n\u001b[0m\u001b[1;32m      4\u001b[0m \u001b[0;31m#labels = [\"A\", \"B\", \"C\", \"D\"]\u001b[0m\u001b[0;34m\u001b[0m\u001b[0;34m\u001b[0m\u001b[0;34m\u001b[0m\u001b[0m\n\u001b[1;32m      5\u001b[0m \u001b[0mlabels\u001b[0m \u001b[0;34m=\u001b[0m \u001b[0msoftware\u001b[0m\u001b[0;34m\u001b[0m\u001b[0;34m\u001b[0m\u001b[0m\n",
      "\u001b[0;31mNameError\u001b[0m: name 'sch' is not defined"
     ]
    }
   ],
   "source": [
    "#Euclidean and ward\n",
    "\n",
    "Z_euclidean = sch.linkage(X_transpose, method = 'ward', metric= 'euclidean')\n",
    "#labels = [\"A\", \"B\", \"C\", \"D\"]\n",
    "labels = software\n",
    "\n",
    "p = len(labels)\n",
    "\n",
    "plt.figure(figsize=(120, 15))\n",
    "plt.title('Hierarchical Clustering Dendrogram', fontsize=25)\n",
    "plt.xlabel('Software', fontsize=20)\n",
    "plt.ylabel('distance', fontsize=20)\n",
    "\n",
    "# call dendrogram to get the returned dictionary \n",
    "# (plotting parameters can be ignored at this point)\n",
    "R = sch.dendrogram(\n",
    "                Z_euclidean,\n",
    "                truncate_mode='lastp',  # show only the last p merged clusters\n",
    "                p=p,  # show only the last p merged clusters\n",
    "                no_plot=True,\n",
    "                )\n",
    "\n",
    "# create a label dictionary\n",
    "temp = {R[\"leaves\"][ii]: labels[ii] for ii in range(len(R[\"leaves\"]))}\n",
    "def llf(xx):\n",
    "    return \"{}\".format(temp[xx])\n",
    "\n",
    "## This version gives you your label AND the count\n",
    "# temp = {R[\"leaves\"][ii]:(labels[ii], R[\"ivl\"][ii]) for ii in range(len(R[\"leaves\"]))}\n",
    "# def llf(xx):\n",
    "#     return \"{} - {}\".format(*temp[xx])\n",
    "\n",
    "sch.dendrogram(\n",
    "            Z_euclidean,\n",
    "            truncate_mode='lastp',  # show only the last p merged clusters\n",
    "            p=p,  # show only the last p merged clusters\n",
    "            leaf_label_func=llf,\n",
    "            leaf_rotation=60.,\n",
    "            leaf_font_size=12.,\n",
    "            show_contracted=True,  # to get a distribution impression in truncated branches\n",
    "            )\n",
    "\n",
    "plt.show()"
   ]
  },
  {
   "cell_type": "code",
   "execution_count": 2,
   "metadata": {},
   "outputs": [
    {
     "ename": "NameError",
     "evalue": "name 'pdist' is not defined",
     "output_type": "error",
     "traceback": [
      "\u001b[0;31m---------------------------------------------------------------------------\u001b[0m",
      "\u001b[0;31mNameError\u001b[0m                                 Traceback (most recent call last)",
      "\u001b[0;32m<ipython-input-2-bed26dccf145>\u001b[0m in \u001b[0;36m<module>\u001b[0;34m\u001b[0m\n\u001b[1;32m      2\u001b[0m \u001b[0;34m\u001b[0m\u001b[0m\n\u001b[1;32m      3\u001b[0m \u001b[0;31m#Berechne Distanzmatix\u001b[0m\u001b[0;34m\u001b[0m\u001b[0;34m\u001b[0m\u001b[0;34m\u001b[0m\u001b[0m\n\u001b[0;32m----> 4\u001b[0;31m \u001b[0mY_jaccard\u001b[0m \u001b[0;34m=\u001b[0m \u001b[0mpdist\u001b[0m\u001b[0;34m(\u001b[0m\u001b[0mX_transpose\u001b[0m\u001b[0;34m,\u001b[0m \u001b[0;34m'jaccard'\u001b[0m\u001b[0;34m)\u001b[0m\u001b[0;34m\u001b[0m\u001b[0;34m\u001b[0m\u001b[0m\n\u001b[0m\u001b[1;32m      5\u001b[0m \u001b[0mprint\u001b[0m\u001b[0;34m(\u001b[0m\u001b[0mlen\u001b[0m\u001b[0;34m(\u001b[0m\u001b[0mY_jaccard\u001b[0m\u001b[0;34m)\u001b[0m\u001b[0;34m,\u001b[0m \u001b[0mlen\u001b[0m\u001b[0;34m(\u001b[0m\u001b[0mX_transpose\u001b[0m\u001b[0;34m)\u001b[0m\u001b[0;34m)\u001b[0m\u001b[0;34m\u001b[0m\u001b[0;34m\u001b[0m\u001b[0m\n\u001b[1;32m      6\u001b[0m \u001b[0;34m\u001b[0m\u001b[0m\n",
      "\u001b[0;31mNameError\u001b[0m: name 'pdist' is not defined"
     ]
    }
   ],
   "source": [
    "#Trenne Clustering von der Distanzmatrix | z.B für Jaccard Koeffizient\n",
    "\n",
    "#Berechne Distanzmatix\n",
    "Y_jaccard = pdist(X_transpose, 'jaccard')\n",
    "print(len(Y_jaccard), len(X_transpose))\n",
    "\n",
    "#Clustering mit ward\n",
    "Z_jaccard = ward(Y_jaccard)\n",
    "\n",
    "#result = fcluster(Z, 4, criterion='distance')\n",
    "\n",
    "#Visualisierung des Clusterings\n",
    "plt.figure(figsize=(120, 15))\n",
    "sch.dendrogram(\n",
    "            Z_jaccard,\n",
    "            truncate_mode='lastp',  # show only the last p merged clusters\n",
    "            p=p,  # show only the last p merged clusters\n",
    "            leaf_label_func=llf,\n",
    "            leaf_rotation=60.,\n",
    "            leaf_font_size=12.,\n",
    "            show_contracted=True,  # to get a distribution impression in truncated branches\n",
    "            )\n",
    "\n",
    "plt.show()"
   ]
  },
  {
   "cell_type": "code",
   "execution_count": 3,
   "metadata": {},
   "outputs": [
    {
     "ename": "NameError",
     "evalue": "name 'pd' is not defined",
     "output_type": "error",
     "traceback": [
      "\u001b[0;31m---------------------------------------------------------------------------\u001b[0m",
      "\u001b[0;31mNameError\u001b[0m                                 Traceback (most recent call last)",
      "\u001b[0;32m<ipython-input-3-d12ceaef40c4>\u001b[0m in \u001b[0;36m<module>\u001b[0;34m\u001b[0m\n\u001b[0;32m----> 1\u001b[0;31m \u001b[0mcluster_list\u001b[0m \u001b[0;34m=\u001b[0m \u001b[0mpd\u001b[0m\u001b[0;34m.\u001b[0m\u001b[0mDataFrame\u001b[0m\u001b[0;34m(\u001b[0m\u001b[0mlist\u001b[0m\u001b[0;34m(\u001b[0m\u001b[0mzip\u001b[0m\u001b[0;34m(\u001b[0m\u001b[0msoftware\u001b[0m\u001b[0;34m,\u001b[0m \u001b[0mcluster_id\u001b[0m\u001b[0;34m.\u001b[0m\u001b[0mtolist\u001b[0m\u001b[0;34m(\u001b[0m\u001b[0;34m)\u001b[0m\u001b[0;34m,\u001b[0m \u001b[0mcreated\u001b[0m\u001b[0;34m)\u001b[0m\u001b[0;34m)\u001b[0m\u001b[0;34m,\u001b[0m \u001b[0mcolumns\u001b[0m \u001b[0;34m=\u001b[0m \u001b[0;34m[\u001b[0m\u001b[0;34m'Software_ID'\u001b[0m\u001b[0;34m,\u001b[0m \u001b[0;34m'Cluster_ID'\u001b[0m\u001b[0;34m,\u001b[0m \u001b[0;34m'created'\u001b[0m\u001b[0;34m]\u001b[0m\u001b[0;34m)\u001b[0m\u001b[0;34m.\u001b[0m\u001b[0mset_index\u001b[0m\u001b[0;34m(\u001b[0m\u001b[0;34m'Software_ID'\u001b[0m\u001b[0;34m)\u001b[0m\u001b[0;34m\u001b[0m\u001b[0;34m\u001b[0m\u001b[0m\n\u001b[0m\u001b[1;32m      2\u001b[0m \u001b[0mcluster_list\u001b[0m \u001b[0;34m=\u001b[0m \u001b[0mcluster_list\u001b[0m\u001b[0;34m.\u001b[0m\u001b[0msort_values\u001b[0m\u001b[0;34m(\u001b[0m\u001b[0mby\u001b[0m \u001b[0;34m=\u001b[0m \u001b[0;34m'Cluster_ID'\u001b[0m\u001b[0;34m)\u001b[0m\u001b[0;34m\u001b[0m\u001b[0;34m\u001b[0m\u001b[0m\n\u001b[1;32m      3\u001b[0m \u001b[0mcluster_list\u001b[0m\u001b[0;34m.\u001b[0m\u001b[0mtranspose\u001b[0m\u001b[0;34m(\u001b[0m\u001b[0;34m)\u001b[0m\u001b[0;34m\u001b[0m\u001b[0;34m\u001b[0m\u001b[0m\n\u001b[1;32m      4\u001b[0m \u001b[0;34m\u001b[0m\u001b[0m\n\u001b[1;32m      5\u001b[0m \u001b[0;34m\u001b[0m\u001b[0m\n",
      "\u001b[0;31mNameError\u001b[0m: name 'pd' is not defined"
     ]
    }
   ],
   "source": [
    "cluster_list = pd.DataFrame(list(zip(software, cluster_id.tolist(), created)), columns = ['Software_ID', 'Cluster_ID', 'created']).set_index('Software_ID')\n",
    "cluster_list = cluster_list.sort_values(by = 'Cluster_ID')\n",
    "cluster_list.transpose()\n",
    "\n",
    "\n",
    "    \n",
    "counter = cluster_list['Cluster_ID'].value_counts(sort = True)\n",
    "counter_df = pd.DataFrame(counter)\n",
    "\n",
    "book = load_workbook(path)\n",
    "with pd.ExcelWriter(path, engine = 'openpyxl') as writer:\n",
    "    writer.book = book\n",
    "    writer.sheets = dict((ws.title, ws) for ws in book.worksheets)   \n",
    "        \n",
    "    cluster_list.to_excel(writer, sheet_name = 'Cluster max 20')"
   ]
  },
  {
   "cell_type": "code",
   "execution_count": null,
   "metadata": {},
   "outputs": [],
   "source": [
    "#ENTWURF: Cluster mit ID und zugehörigen Software als Excel-Tabellenblatt speichern\n",
    "\n",
    "def cluster_to_sheet(cluster_id):\n",
    "    \n",
    "    path = \"./Overview Hierarchical Clustering.xlsx\"\n",
    " \n",
    "    cluster_list = pd.DataFrame(list(zip(software, cluster_id.tolist(), created)), columns = ['Software_ID', 'Cluster_ID', 'created']).set_index('Software_ID')\n",
    "    cluster_list = cluster_df.sort_values(by = 'Cluster_ID')\n",
    "    cluster_list.transpose()\n",
    "    \n",
    "    print(cluster_list)\n",
    "    \n",
    "    counter = cluster_list['Cluster_ID'].value_counts(sort = True)\n",
    "    counter_df = pd.DataFrame(counter)\n",
    "\n",
    "    book = load_workbook(path)\n",
    "    with pd.ExcelWriter(path, engine = 'openpyxl') as writer:\n",
    "        writer.book = book\n",
    "        writer.sheets = dict((ws.title, ws) for ws in book.worksheets)   \n",
    "        \n",
    "        cluster_list.to_excel(writer, sheet_name = 'max_cluster')\n",
    "        \n",
    "    return counter"
   ]
  }
 ],
 "metadata": {
  "kernelspec": {
   "display_name": "Python 3",
   "language": "python",
   "name": "python3"
  },
  "language_info": {
   "codemirror_mode": {
    "name": "ipython",
    "version": 3
   },
   "file_extension": ".py",
   "mimetype": "text/x-python",
   "name": "python",
   "nbconvert_exporter": "python",
   "pygments_lexer": "ipython3",
   "version": "3.8.5"
  }
 },
 "nbformat": 4,
 "nbformat_minor": 4
}
