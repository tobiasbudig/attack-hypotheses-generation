{
 "cells": [
  {
   "cell_type": "code",
   "execution_count": null,
   "metadata": {},
   "outputs": [],
   "source": []
  },
  {
   "cell_type": "code",
   "execution_count": 2,
   "metadata": {
    "scrolled": true
   },
   "outputs": [
    {
     "name": "stderr",
     "output_type": "stream",
     "text": [
      "parsing techniques: 100%|██████████| 552/552 [00:17<00:00, 30.71it/s]\n",
      "parsing relationships for type=technique: 100%|██████████| 10986/10986 [00:00<00:00, 73690.90it/s]"
     ]
    },
    {
     "name": "stdout",
     "output_type": "stream",
     "text": [
      "537                                 Web Service\n",
      "38     Web Service: Bidirectional Communication\n",
      "127             Web Service: Dead Drop Resolver\n",
      "340          Web Service: One-Way Communication\n",
      "Name: name, dtype: object\n"
     ]
    },
    {
     "name": "stderr",
     "output_type": "stream",
     "text": [
      "\n"
     ]
    }
   ],
   "source": [
    "import mitreattack.attackToExcel.attackToExcel as attackToExcel\n",
    "import mitreattack.attackToExcel.stixToDf as stixToDf\n",
    "\n",
    "# download and parse ATT&CK STIX data\n",
    "attackdata = attackToExcel.get_stix_data(\"enterprise-attack\")\n",
    "# get Pandas DataFrames for techniques, associated relationships, and citations\n",
    "techniques_data = stixToDf.techniquesToDf(attackdata, \"enterprise-attack\") \n",
    "\n",
    "# show T1102 and sub-techniques of T1102\n",
    "techniques_df = techniques_data[\"techniques\"]\n",
    "print(techniques_df[techniques_df[\"ID\"].str.contains(\"T1102\")][\"name\"])"
   ]
  },
  {
   "cell_type": "markdown",
   "metadata": {},
   "source": []
  },
  {
   "cell_type": "markdown",
   "metadata": {},
   "source": [
    "python3 techniques_data_sources_vis.py -h"
   ]
  },
  {
   "cell_type": "markdown",
   "metadata": {},
   "source": [
    "from stix2 import TAXIICollectionSource, Filter\n",
    "from taxii2client.v20 import Collection\n",
    "import argparse\n",
    "\n",
    "# Establish TAXII2 Collection instance for Enterprise ATT&CK collection\n",
    "collection = Collection(\"https://cti-taxii.mitre.org/stix/collections/95ecc380-afe9-11e4-9b6c-751b66dd541e/\")\n",
    "# Supply the collection to TAXIICollection\n",
    "tc_src = TAXIICollectionSource(collection)\n",
    "\n",
    "def data_sources():\n",
    "    \"\"\"returns all data sources in Enterprise ATT&CK\"\"\"\n",
    "\n",
    "    all_data_srcs = []\n",
    "\n",
    "    # Get all techniques in Enterprise ATT&CK\n",
    "    techniques = tc_src.query([Filter(\"type\", \"=\", \"attack-pattern\")])\n",
    "\n",
    "    # Get all data sources in Enterprise ATT&CK\n",
    "    for tech in techniques:\n",
    "        if 'x_mitre_data_sources' in tech:\n",
    "            all_data_srcs += [\n",
    "                data_src for data_src in tech.x_mitre_data_sources\n",
    "                if data_src not in all_data_srcs\n",
    "            ]\n",
    "    \n",
    "    return all_data_srcs\n",
    "\n",
    "def techniques(data_source):\n",
    "    \"\"\"returns all techniques which contain the given data source.\"\"\"\n",
    "    \n",
    "    techs_with_data_src = tc_src.query([\n",
    "        Filter(\"type\", \"=\", \"attack-pattern\"),\n",
    "        Filter(\"x_mitre_data_sources\", \"in\", data_source)\n",
    "    ])\n",
    "\n",
    "    return techs_with_data_src\n",
    "\n",
    "if __name__ == \"__main__\":\n",
    "    parser = argparse.ArgumentParser(\n",
    "        description=\"Fetches the current ATT&CK STIX 2.0 objects from the ATT&CK TAXII server, prints all of the data sources listed in Enterprise ATT&CK, and then lists all the Enterprise techniques containing a given data source.\"\n",
    "    )\n",
    "    parser.add_argument(\"-data_source\",\n",
    "        type=str,\n",
    "        default=\"Windows Registry\",\n",
    "        help=\"the datasource by which to filter techniques. Default value is '%(default)s'.\"\n",
    "    )\n",
    "\n",
    "    args = parser.parse_args()\n",
    "\n",
    "    print(\"All data sources in Enterprise ATT&CK:\\n\")\n",
    "    print(\"\\n\".join(data_sources()))\n",
    "    print(\"\\n\")\n",
    "    \n",
    "    # get techniques from the specified data source\n",
    "    technique_list = techniques(args.data_source)\n",
    "    # Get names of techniques\n",
    "    tech_names = [tech.name for tech in technique_list]\n",
    "\n",
    "    print(f\"The following {len(tech_names)} techniques use '{args.data_source}' as a data source:\\n\")\n",
    "    print(\"\\n\".join(tech_names))"
   ]
  },
  {
   "cell_type": "code",
   "execution_count": 13,
   "metadata": {},
   "outputs": [],
   "source": [
    "from stix2 import TAXIICollectionSource, Filter\n",
    "from taxii2client.v20 import Collection\n",
    "import argparse\n",
    "\n",
    "# Establish TAXII2 Collection instance for Enterprise ATT&CK collection\n",
    "collection = Collection(\"https://cti-taxii.mitre.org/stix/collections/95ecc380-afe9-11e4-9b6c-751b66dd541e/\")\n",
    "# Supply the collection to TAXIICollection\n",
    "tc_src = TAXIICollectionSource(collection)\n",
    "\n",
    "def data_sources():\n",
    "    \"\"\"returns all data sources in Enterprise ATT&CK\"\"\"\n",
    "\n",
    "    all_data_srcs = []\n",
    "\n",
    "    # Get all techniques in Enterprise ATT&CK\n",
    "    techniques = tc_src.query([Filter(\"type\", \"=\", \"attack-pattern\")])\n",
    "\n",
    "    # Get all data sources in Enterprise ATT&CK\n",
    "    for tech in techniques:\n",
    "        if 'x_mitre_data_sources' in tech:\n",
    "            all_data_srcs += [\n",
    "                data_src for data_src in tech.x_mitre_data_sources\n",
    "                if data_src not in all_data_srcs\n",
    "            ]\n",
    "    \n",
    "    return all_data_srcs\n",
    "\n",
    "def techniques(data_source):\n",
    "    \"\"\"returns all techniques which contain the given data source.\"\"\"\n",
    "    \n",
    "    techs_with_data_src = tc_src.query([\n",
    "        Filter(\"type\", \"=\", \"attack-pattern\"),\n",
    "        Filter(\"x_mitre_data_sources\", \"in\", data_source)\n",
    "    ])\n",
    "\n",
    "    return techs_with_data_src\n",
    "\n",
    "def main():\n",
    "    parser = argparse.ArgumentParser(\n",
    "        description=\"Fetches the current ATT&CK STIX 2.0 objects from the ATT&CK TAXII server, prints all of the data sources listed in Enterprise ATT&CK, and then lists all the Enterprise techniques containing a given data source.\"\n",
    "    )\n",
    "    parser.add_argument(\"-data_source\",\n",
    "        type=str,\n",
    "        default=\"Windows Registry\",\n",
    "        help=\"the datasource by which to filter techniques. Default value is '%(default)s'.\"\n",
    "    )\n",
    "\n",
    "    args = parser.parse_args()\n",
    "\n",
    "    print(\"All data sources in Enterprise ATT&CK:\\n\")\n",
    "    print(\"\\n\".join(data_sources()))\n",
    "    print(\"\\n\")\n",
    "    \n",
    "    # get techniques from the specified data source\n",
    "    technique_list = techniques(args.data_source)\n",
    "    # Get names of techniques\n",
    "    tech_names = [tech.name for tech in technique_list]\n",
    "\n",
    "    print(f\"The following {len(tech_names)} techniques use '{args.data_source}' as a data source:\\n\")\n",
    "    print(\"\\n\".join(tech_names))"
   ]
  },
  {
   "cell_type": "code",
   "execution_count": 14,
   "metadata": {},
   "outputs": [
    {
     "name": "stderr",
     "output_type": "stream",
     "text": [
      "usage: ipykernel_launcher.py [-h] [-data_source DATA_SOURCE]\n",
      "ipykernel_launcher.py: error: unrecognized arguments: -f /Users/elisabethgoebel/Library/Jupyter/runtime/kernel-c6022800-e012-44f3-ba7b-e36b8e18d99c.json\n"
     ]
    },
    {
     "ename": "SystemExit",
     "evalue": "2",
     "output_type": "error",
     "traceback": [
      "An exception has occurred, use %tb to see the full traceback.\n",
      "\u001b[0;31mSystemExit\u001b[0m\u001b[0;31m:\u001b[0m 2\n"
     ]
    }
   ],
   "source": [
    "main()"
   ]
  },
  {
   "cell_type": "code",
   "execution_count": 12,
   "metadata": {},
   "outputs": [],
   "source": []
  },
  {
   "cell_type": "code",
   "execution_count": null,
   "metadata": {},
   "outputs": [],
   "source": []
  }
 ],
 "metadata": {
  "kernelspec": {
   "display_name": "Python 3",
   "language": "python",
   "name": "python3"
  },
  "language_info": {
   "codemirror_mode": {
    "name": "ipython",
    "version": 3
   },
   "file_extension": ".py",
   "mimetype": "text/x-python",
   "name": "python",
   "nbconvert_exporter": "python",
   "pygments_lexer": "ipython3",
   "version": "3.8.5"
  }
 },
 "nbformat": 4,
 "nbformat_minor": 4
}
