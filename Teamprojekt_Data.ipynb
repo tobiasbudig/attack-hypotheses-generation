{
 "cells": [
  {
   "cell_type": "code",
   "execution_count": 82,
   "metadata": {},
   "outputs": [],
   "source": [
    "# importiere notwendige Bibliotheken\n",
    "import requests\n",
    "import json\n",
    "from bs4 import BeautifulSoup, SoupStrainer\n",
    "import csv\n",
    "import re\n",
    "\n",
    "# speichere url in Variable\n",
    "url = 'https://attack.mitre.org/software/'\n",
    "r = requests.get(url)\n",
    "\n",
    "soup = BeautifulSoup(r.text, 'html.parser')\n",
    "\n",
    "# sucht Tabelle mit der Klasse und gibt sie aus\n",
    "software_table = soup.find('table', class_ = 'table table-bordered table-alternate mt-2')\n",
    "#print(software_table)\n",
    "\n",
    "# gehen einen Schritt tiefer, weil alle relevanten Infos im Body sind\n",
    "software_data = []\n",
    "\n",
    "for software in software_table.find_all('tbody'):\n",
    "    rows = software.find_all('tr')\n",
    "    \n",
    "    for row in rows:\n",
    "        \n",
    "        # Speichere Namen, Link und ID\n",
    "        software_name = row.find('td').text.strip()\n",
    "        software_link = row.find('a', href = True)\n",
    "        #software_id = software_link['href'].split('/')[2]\n",
    "\n",
    "        software_url = \"https://attack.mitre.org/\" + software_link['href']\n",
    "        # print(current_software_url)\n",
    " \n",
    "        # Speichere gesammelte Daten in Dictionary\n",
    "        software_link_dict = {\"software_name\": software_name, \"software_link\": software_url}\n",
    "        software_data.append(software_link_dict)\n",
    "\n",
    "# speichere die Daten aus dem Dict in data \n",
    "# print(data)"
   ]
  },
  {
   "cell_type": "code",
   "execution_count": 83,
   "metadata": {},
   "outputs": [],
   "source": [
    "jsonStr = json.dumps(software_data)\n",
    "\n",
    "myList = open('softwarelist.txt','w')\n",
    "myList.write(jsonStr)\n",
    "myList.close()"
   ]
  },
  {
   "cell_type": "code",
   "execution_count": 97,
   "metadata": {
    "scrolled": true
   },
   "outputs": [
    {
     "name": "stdout",
     "output_type": "stream",
     "text": [
      "[{'technique_id': 'T1071', 'technique_name': 'Application Layer Protocol: Web Protocols', 'technique_domain': 'Enterprise', 'subtechnique_id': 'T1071.001', 'technique_use': '3PARA RAT uses HTTP for command and control.[1]'}, {'technique_id': 'T1573', 'technique_name': 'Encrypted Channel: Symmetric Cryptography', 'technique_domain': 'Enterprise', 'subtechnique_id': 'T1573.001', 'technique_use': '3PARA RAT command and control commands are encrypted within the HTTP C2 channel using the DES algorithm in CBC mode with a key derived from the MD5 hash of the string HYF54&%9&jkMCXuiS. 3PARA RAT will use an 8-byte XOR key derived from the string HYF54&%9&jkMCXuiS if the DES decoding fails[1]'}, {'technique_id': 'T1083', 'technique_name': 'File and Directory Discovery', 'technique_domain': 'Enterprise', 'subtechnique_id': '', 'technique_use': '3PARA RAT has a command to retrieve metadata for files on disk as well as a command to list the current working directory.[1]'}, {'technique_id': 'T1070', 'technique_name': 'Indicator Removal on Host: Timestomp', 'technique_domain': 'Enterprise', 'subtechnique_id': 'T1070.006', 'technique_use': '3PARA RAT has a command to set certain attributes such as creation/modification timestamps on files.[1]'}]\n",
      "[{'technique_id': 'T1071', 'technique_name': 'Application Layer Protocol: Web Protocols', 'technique_domain': 'Enterprise', 'subtechnique_id': 'T1071.001', 'technique_use': '4H RAT uses HTTP for command and control.[1]'}, {'technique_id': 'T1059', 'technique_name': 'Command and Scripting Interpreter: Windows Command Shell', 'technique_domain': 'Enterprise', 'subtechnique_id': 'T1059.003', 'technique_use': '4H RAT has the capability to create a remote shell.[1]'}, {'technique_id': 'T1573', 'technique_name': 'Encrypted Channel: Symmetric Cryptography', 'technique_domain': 'Enterprise', 'subtechnique_id': 'T1573.001', 'technique_use': '4H RAT obfuscates C2 communication using a 1-byte XOR with the key 0xBE.[1]'}, {'technique_id': 'T1083', 'technique_name': 'File and Directory Discovery', 'technique_domain': 'Enterprise', 'subtechnique_id': '', 'technique_use': '4H RAT has the capability to obtain file and directory listings.[1]'}, {'technique_id': 'T1057', 'technique_name': 'Process Discovery', 'technique_domain': 'Enterprise', 'subtechnique_id': '', 'technique_use': '4H RAT has the capability to obtain a listing of running processes (including loaded modules).[1]'}, {'technique_id': 'T1082', 'technique_name': 'System Information Discovery', 'technique_domain': 'Enterprise', 'subtechnique_id': '', 'technique_use': '4H RAT sends an OS version identifier in its beacons.[1]'}]\n",
      "[{'technique_id': 'T1071', 'technique_name': 'Application Layer Protocol: Web Protocols', 'technique_domain': 'Enterprise', 'subtechnique_id': 'T1071.001', 'technique_use': 'ABK has the ability to use HTTP in communications with C2.[1]'}, {'technique_id': 'T1059', 'technique_name': 'Command and Scripting Interpreter: Windows Command Shell', 'technique_domain': 'Enterprise', 'subtechnique_id': 'T1059.003', 'technique_use': 'ABK has the ability to use cmd to run a Portable Executable (PE) on the compromised host.[1]'}, {'technique_id': 'T1140', 'technique_name': 'Deobfuscate/Decode Files or Information', 'technique_domain': 'Enterprise', 'subtechnique_id': '', 'technique_use': 'ABK has the ability to decrypt AES encrypted payloads.[1]'}, {'technique_id': 'T1105', 'technique_name': 'Ingress Tool Transfer', 'technique_domain': 'Enterprise', 'subtechnique_id': '', 'technique_use': 'ABK has the ability to download files from C2.[1]'}, {'technique_id': 'T1027', 'technique_name': 'Obfuscated Files or Information: Steganography', 'technique_domain': 'Enterprise', 'subtechnique_id': 'T1027.003', 'technique_use': 'ABK can extract a malicious Portable Executable (PE) from a photo.[1]'}, {'technique_id': 'T1055', 'technique_name': 'Process Injection', 'technique_domain': 'Enterprise', 'subtechnique_id': '', 'technique_use': 'ABK has the ability to inject shellcode into svchost.exe.[1]'}, {'technique_id': 'T1518', 'technique_name': 'Software Discovery: Security Software Discovery', 'technique_domain': 'Enterprise', 'subtechnique_id': 'T1518.001', 'technique_use': 'ABK has the ability to identify the installed anti-virus product on the compromised host.[1]'}]\n",
      "-------\n",
      "[{'software_name': '3PARA RAT', 'software_id': 'S0066', 'software_type': 'MALWARE', 'software_platform': 'Windows', 'software_created': '31 May 2017', 'technique_data': [{'technique_id': 'T1071', 'technique_name': 'Application Layer Protocol: Web Protocols', 'technique_domain': 'Enterprise', 'subtechnique_id': 'T1071.001', 'technique_use': '3PARA RAT uses HTTP for command and control.[1]'}, {'technique_id': 'T1573', 'technique_name': 'Encrypted Channel: Symmetric Cryptography', 'technique_domain': 'Enterprise', 'subtechnique_id': 'T1573.001', 'technique_use': '3PARA RAT command and control commands are encrypted within the HTTP C2 channel using the DES algorithm in CBC mode with a key derived from the MD5 hash of the string HYF54&%9&jkMCXuiS. 3PARA RAT will use an 8-byte XOR key derived from the string HYF54&%9&jkMCXuiS if the DES decoding fails[1]'}, {'technique_id': 'T1083', 'technique_name': 'File and Directory Discovery', 'technique_domain': 'Enterprise', 'subtechnique_id': '', 'technique_use': '3PARA RAT has a command to retrieve metadata for files on disk as well as a command to list the current working directory.[1]'}, {'technique_id': 'T1070', 'technique_name': 'Indicator Removal on Host: Timestomp', 'technique_domain': 'Enterprise', 'subtechnique_id': 'T1070.006', 'technique_use': '3PARA RAT has a command to set certain attributes such as creation/modification timestamps on files.[1]'}]}, {'software_name': '4H RAT', 'software_id': 'S0065', 'software_type': 'MALWARE', 'software_platform': 'Windows', 'software_created': '31 May 2017', 'technique_data': [{'technique_id': 'T1071', 'technique_name': 'Application Layer Protocol: Web Protocols', 'technique_domain': 'Enterprise', 'subtechnique_id': 'T1071.001', 'technique_use': '4H RAT uses HTTP for command and control.[1]'}, {'technique_id': 'T1059', 'technique_name': 'Command and Scripting Interpreter: Windows Command Shell', 'technique_domain': 'Enterprise', 'subtechnique_id': 'T1059.003', 'technique_use': '4H RAT has the capability to create a remote shell.[1]'}, {'technique_id': 'T1573', 'technique_name': 'Encrypted Channel: Symmetric Cryptography', 'technique_domain': 'Enterprise', 'subtechnique_id': 'T1573.001', 'technique_use': '4H RAT obfuscates C2 communication using a 1-byte XOR with the key 0xBE.[1]'}, {'technique_id': 'T1083', 'technique_name': 'File and Directory Discovery', 'technique_domain': 'Enterprise', 'subtechnique_id': '', 'technique_use': '4H RAT has the capability to obtain file and directory listings.[1]'}, {'technique_id': 'T1057', 'technique_name': 'Process Discovery', 'technique_domain': 'Enterprise', 'subtechnique_id': '', 'technique_use': '4H RAT has the capability to obtain a listing of running processes (including loaded modules).[1]'}, {'technique_id': 'T1082', 'technique_name': 'System Information Discovery', 'technique_domain': 'Enterprise', 'subtechnique_id': '', 'technique_use': '4H RAT sends an OS version identifier in its beacons.[1]'}]}, {'software_name': 'ABK', 'software_id': 'S0469', 'software_type': 'MALWARE', 'software_platform': 'Windows', 'software_created': '10 June 2020', 'technique_data': [{'technique_id': 'T1071', 'technique_name': 'Application Layer Protocol: Web Protocols', 'technique_domain': 'Enterprise', 'subtechnique_id': 'T1071.001', 'technique_use': 'ABK has the ability to use HTTP in communications with C2.[1]'}, {'technique_id': 'T1059', 'technique_name': 'Command and Scripting Interpreter: Windows Command Shell', 'technique_domain': 'Enterprise', 'subtechnique_id': 'T1059.003', 'technique_use': 'ABK has the ability to use cmd to run a Portable Executable (PE) on the compromised host.[1]'}, {'technique_id': 'T1140', 'technique_name': 'Deobfuscate/Decode Files or Information', 'technique_domain': 'Enterprise', 'subtechnique_id': '', 'technique_use': 'ABK has the ability to decrypt AES encrypted payloads.[1]'}, {'technique_id': 'T1105', 'technique_name': 'Ingress Tool Transfer', 'technique_domain': 'Enterprise', 'subtechnique_id': '', 'technique_use': 'ABK has the ability to download files from C2.[1]'}, {'technique_id': 'T1027', 'technique_name': 'Obfuscated Files or Information: Steganography', 'technique_domain': 'Enterprise', 'subtechnique_id': 'T1027.003', 'technique_use': 'ABK can extract a malicious Portable Executable (PE) from a photo.[1]'}, {'technique_id': 'T1055', 'technique_name': 'Process Injection', 'technique_domain': 'Enterprise', 'subtechnique_id': '', 'technique_use': 'ABK has the ability to inject shellcode into svchost.exe.[1]'}, {'technique_id': 'T1518', 'technique_name': 'Software Discovery: Security Software Discovery', 'technique_domain': 'Enterprise', 'subtechnique_id': 'T1518.001', 'technique_use': 'ABK has the ability to identify the installed anti-virus product on the compromised host.[1]'}]}]\n"
     ]
    }
   ],
   "source": [
    "prop_data = []\n",
    "\n",
    "for i in range(0,3):\n",
    "    r = requests.get(software_data[i]['software_link'])\n",
    "\n",
    "    soup = BeautifulSoup(r.text, 'html.parser')\n",
    "    prop_table = soup.find('div', class_ = 'card')\n",
    "\n",
    "    #Aus der Prop-Tabelle \n",
    "    software_name = software_data[i]['software_name']\n",
    "    software_id = prop_table.findAll('div', class_ = \"card-data\")[0].text.split(': ')[1]\n",
    "    software_type = prop_table.findAll('div', class_ = \"card-data\")[1].text.split(': ')[1]\n",
    "    software_platform = prop_table.findAll('div', class_ = \"card-data\")[2].text.split(': ')[1]\n",
    "    software_created = prop_table.findAll('div', class_ = \"card-data\")[4].text.split(':')[1].strip()\n",
    "    \n",
    "    tech_table = soup.find('table', class_ = 'table techniques-used table-bordered mt-2')\n",
    "\n",
    "    technique_data = []\n",
    "\n",
    "    for techniques in tech_table.find_all('tbody'):\n",
    "        rows = techniques.find_all('tr')\n",
    "        \n",
    "        for row in rows:\n",
    "            technique_domain = row.find('td').text.strip()\n",
    "            technique_id = row.findAll('td')[1].text.strip()\n",
    "\n",
    "            # Subtechnique_id ist etwas komplizierter, da sie nicht immer existiert, aber wenn es sie gibt immer mit . startet\n",
    "            # setze die Subtechnique_id mit der technique_id zusammen\n",
    "            if \".\" in row.findAll('td')[2].text.strip():\n",
    "                subtechnique_id = technique_id + row.findAll('td')[2].text.strip()\n",
    "            else:\n",
    "                subtechnique_id = \"\"\n",
    "\n",
    "            technique_name = row.findAll('td')[-2].text.strip()\n",
    "            technique_use = row.findAll('td')[-1].text.strip()\n",
    "\n",
    "            technique_dict = {\"technique_id\": technique_id, \"technique_name\": technique_name, \"technique_domain\": technique_domain,\n",
    "                             \"subtechnique_id\": subtechnique_id, \"technique_use\": technique_use}\n",
    "            technique_data.append(technique_dict) \n",
    "\n",
    "        print(technique_data)\n",
    "        \n",
    "    software_dict = {\"software_name\": software_name, \"software_id\": software_id,\"software_type\": software_type,\n",
    "                    \"software_platform\": software_platform, \"software_created\": software_created, \"technique_data\": technique_data}\n",
    "    prop_data.append(software_dict)\n",
    "    \n",
    "print(\"-------\")\n",
    "print(prop_data)"
   ]
  },
  {
   "cell_type": "code",
   "execution_count": 93,
   "metadata": {},
   "outputs": [
    {
     "name": "stdout",
     "output_type": "stream",
     "text": [
      "[{'technique_id': 'T1071', 'technique_name': 'Application Layer Protocol: Web Protocols', 'technique_domain': 'Enterprise', 'subtechnique_id': 'T1071.001', 'technique_use': '3PARA RAT uses HTTP for command and control.[1]'}, {'technique_id': 'T1573', 'technique_name': 'Encrypted Channel: Symmetric Cryptography', 'technique_domain': 'Enterprise', 'subtechnique_id': 'T1573.001', 'technique_use': '3PARA RAT command and control commands are encrypted within the HTTP C2 channel using the DES algorithm in CBC mode with a key derived from the MD5 hash of the string HYF54&%9&jkMCXuiS. 3PARA RAT will use an 8-byte XOR key derived from the string HYF54&%9&jkMCXuiS if the DES decoding fails[1]'}, {'technique_id': 'T1083', 'technique_name': 'File and Directory Discovery', 'technique_domain': 'Enterprise', 'subtechnique_id': '', 'technique_use': '3PARA RAT has a command to retrieve metadata for files on disk as well as a command to list the current working directory.[1]'}, {'technique_id': 'T1070', 'technique_name': 'Indicator Removal on Host: Timestomp', 'technique_domain': 'Enterprise', 'subtechnique_id': 'T1070.006', 'technique_use': '3PARA RAT has a command to set certain attributes such as creation/modification timestamps on files.[1]'}]\n"
     ]
    }
   ],
   "source": [
    "#Lese die Tabelle mit den Daten zu den einzelnen Tabellen aus und speichere Domain, ID, Sub-ID, Name und Use\n",
    "\n",
    "r = requests.get(software_data[0]['software_link'])\n",
    "soup = BeautifulSoup(r.text, 'html.parser')\n",
    "\n",
    "tech_table = soup.find('table', class_ = 'table techniques-used table-bordered mt-2')\n",
    "\n",
    "technique_data = []\n",
    "for techniques in tech_table.find_all('tbody'):\n",
    "    rows = techniques.find_all('tr')\n",
    "    for row in rows:\n",
    "        technique_domain = row.find('td').text.strip()\n",
    "        technique_id = row.findAll('td')[1].text.strip()\n",
    "        \n",
    "        # Subtechnique_id ist etwas komplizierter, da sie nicht immer existiert, aber wenn es sie gibt immer mit . startet\n",
    "        # setze die Subtechnique_id mit der technique_id zusammen\n",
    "        if \".\" in row.findAll('td')[2].text.strip():\n",
    "            subtechnique_id = technique_id + row.findAll('td')[2].text.strip()\n",
    "        else:\n",
    "            subtechnique_id = \"\"\n",
    "        \n",
    "        technique_name = row.findAll('td')[-2].text.strip()\n",
    "        technique_use = row.findAll('td')[-1].text.strip()\n",
    "\n",
    "        \n",
    "        technique_dict = {\"technique_id\": technique_id, \"technique_name\": technique_name, \"technique_domain\": technique_domain,\n",
    "                         \"subtechnique_id\": subtechnique_id, \"technique_use\": technique_use}\n",
    "        technique_data.append(technique_dict) \n",
    "        \n",
    "    print(technique_data)"
   ]
  },
  {
   "cell_type": "code",
   "execution_count": null,
   "metadata": {},
   "outputs": [],
   "source": []
  },
  {
   "cell_type": "code",
   "execution_count": null,
   "metadata": {},
   "outputs": [],
   "source": []
  },
  {
   "cell_type": "code",
   "execution_count": null,
   "metadata": {},
   "outputs": [],
   "source": []
  },
  {
   "cell_type": "code",
   "execution_count": null,
   "metadata": {},
   "outputs": [],
   "source": []
  },
  {
   "cell_type": "code",
   "execution_count": null,
   "metadata": {},
   "outputs": [],
   "source": []
  },
  {
   "cell_type": "code",
   "execution_count": null,
   "metadata": {},
   "outputs": [],
   "source": []
  },
  {
   "cell_type": "code",
   "execution_count": null,
   "metadata": {},
   "outputs": [],
   "source": []
  }
 ],
 "metadata": {
  "kernelspec": {
   "display_name": "Python 3",
   "language": "python",
   "name": "python3"
  },
  "language_info": {
   "codemirror_mode": {
    "name": "ipython",
    "version": 3
   },
   "file_extension": ".py",
   "mimetype": "text/x-python",
   "name": "python",
   "nbconvert_exporter": "python",
   "pygments_lexer": "ipython3",
   "version": "3.8.5"
  }
 },
 "nbformat": 4,
 "nbformat_minor": 4
}
