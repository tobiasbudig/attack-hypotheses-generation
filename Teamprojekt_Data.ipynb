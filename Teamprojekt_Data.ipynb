{
 "cells": [
  {
   "cell_type": "code",
   "execution_count": 24,
   "metadata": {},
   "outputs": [
    {
     "name": "stdout",
     "output_type": "stream",
     "text": [
      "pip 20.2.4 from /Users/elisabethgoebel/opt/anaconda3/lib/python3.8/site-packages/pip (python 3.8)\n",
      "Requirement already satisfied: stix2 in /Users/elisabethgoebel/opt/anaconda3/lib/python3.8/site-packages (2.1.0)\n",
      "Requirement already satisfied: stix2-patterns>=1.2.0 in /Users/elisabethgoebel/opt/anaconda3/lib/python3.8/site-packages (from stix2) (1.3.2)\n",
      "Requirement already satisfied: requests in /Users/elisabethgoebel/opt/anaconda3/lib/python3.8/site-packages (from stix2) (2.24.0)\n",
      "Requirement already satisfied: pytz in /Users/elisabethgoebel/opt/anaconda3/lib/python3.8/site-packages (from stix2) (2020.1)\n",
      "Requirement already satisfied: simplejson in /Users/elisabethgoebel/opt/anaconda3/lib/python3.8/site-packages (from stix2) (3.17.2)\n",
      "Requirement already satisfied: six>=1.13.0 in /Users/elisabethgoebel/opt/anaconda3/lib/python3.8/site-packages (from stix2) (1.15.0)\n",
      "Requirement already satisfied: antlr4-python3-runtime~=4.8.0; python_version >= \"3\" in /Users/elisabethgoebel/opt/anaconda3/lib/python3.8/site-packages (from stix2-patterns>=1.2.0->stix2) (4.8)\n",
      "Requirement already satisfied: idna<3,>=2.5 in /Users/elisabethgoebel/opt/anaconda3/lib/python3.8/site-packages (from requests->stix2) (2.10)\n",
      "Requirement already satisfied: certifi>=2017.4.17 in /Users/elisabethgoebel/opt/anaconda3/lib/python3.8/site-packages (from requests->stix2) (2020.6.20)\n",
      "Requirement already satisfied: urllib3!=1.25.0,!=1.25.1,<1.26,>=1.21.1 in /Users/elisabethgoebel/opt/anaconda3/lib/python3.8/site-packages (from requests->stix2) (1.25.11)\n",
      "Requirement already satisfied: chardet<4,>=3.0.2 in /Users/elisabethgoebel/opt/anaconda3/lib/python3.8/site-packages (from requests->stix2) (3.0.4)\n",
      "Requirement already satisfied: taxii2-client in /Users/elisabethgoebel/opt/anaconda3/lib/python3.8/site-packages (2.3.0)\n",
      "Requirement already satisfied: requests in /Users/elisabethgoebel/opt/anaconda3/lib/python3.8/site-packages (from taxii2-client) (2.24.0)\n",
      "Requirement already satisfied: pytz in /Users/elisabethgoebel/opt/anaconda3/lib/python3.8/site-packages (from taxii2-client) (2020.1)\n",
      "Requirement already satisfied: six in /Users/elisabethgoebel/opt/anaconda3/lib/python3.8/site-packages (from taxii2-client) (1.15.0)\n",
      "Requirement already satisfied: certifi>=2017.4.17 in /Users/elisabethgoebel/opt/anaconda3/lib/python3.8/site-packages (from requests->taxii2-client) (2020.6.20)\n",
      "Requirement already satisfied: urllib3!=1.25.0,!=1.25.1,<1.26,>=1.21.1 in /Users/elisabethgoebel/opt/anaconda3/lib/python3.8/site-packages (from requests->taxii2-client) (1.25.11)\n",
      "Requirement already satisfied: idna<3,>=2.5 in /Users/elisabethgoebel/opt/anaconda3/lib/python3.8/site-packages (from requests->taxii2-client) (2.10)\n",
      "Requirement already satisfied: chardet<4,>=3.0.2 in /Users/elisabethgoebel/opt/anaconda3/lib/python3.8/site-packages (from requests->taxii2-client) (3.0.4)\n"
     ]
    }
   ],
   "source": [
    "! python -m pip --version\n",
    "! pip install stix2\n",
    "! pip install taxii2-client\n",
    "\n",
    "from stix2 import Indicator\n",
    "from stix2 import Filter\n",
    "from stix2.v20 import AttackPattern\n",
    "from taxii2client.v20 import Collection"
   ]
  },
  {
   "cell_type": "code",
   "execution_count": 26,
   "metadata": {},
   "outputs": [
    {
     "ename": "ValueError",
     "evalue": "directory path for STIX data does not exist: /Users/elisabethgoebel/Documents/Studium/Teamprojekt/enterprise-attack_data",
     "output_type": "error",
     "traceback": [
      "\u001b[0;31m---------------------------------------------------------------------------\u001b[0m",
      "\u001b[0;31mValueError\u001b[0m                                Traceback (most recent call last)",
      "\u001b[0;32m<ipython-input-26-a460359d7cfe>\u001b[0m in \u001b[0;36m<module>\u001b[0;34m\u001b[0m\n\u001b[1;32m      1\u001b[0m \u001b[0;32mfrom\u001b[0m \u001b[0mstix2\u001b[0m \u001b[0;32mimport\u001b[0m \u001b[0mFileSystemSource\u001b[0m\u001b[0;34m\u001b[0m\u001b[0;34m\u001b[0m\u001b[0m\n\u001b[0;32m----> 2\u001b[0;31m \u001b[0msrc\u001b[0m \u001b[0;34m=\u001b[0m \u001b[0mFileSystemSource\u001b[0m\u001b[0;34m(\u001b[0m\u001b[0;34m'./enterprise-attack_data'\u001b[0m\u001b[0;34m)\u001b[0m\u001b[0;34m\u001b[0m\u001b[0;34m\u001b[0m\u001b[0m\n\u001b[0m",
      "\u001b[0;32m~/opt/anaconda3/lib/python3.8/site-packages/stix2/datastore/filesystem.py\u001b[0m in \u001b[0;36m__init__\u001b[0;34m(self, stix_dir, allow_custom, encoding)\u001b[0m\n\u001b[1;32m    660\u001b[0m \u001b[0;34m\u001b[0m\u001b[0m\n\u001b[1;32m    661\u001b[0m         \u001b[0;32mif\u001b[0m \u001b[0;32mnot\u001b[0m \u001b[0mos\u001b[0m\u001b[0;34m.\u001b[0m\u001b[0mpath\u001b[0m\u001b[0;34m.\u001b[0m\u001b[0mexists\u001b[0m\u001b[0;34m(\u001b[0m\u001b[0mself\u001b[0m\u001b[0;34m.\u001b[0m\u001b[0m_stix_dir\u001b[0m\u001b[0;34m)\u001b[0m\u001b[0;34m:\u001b[0m\u001b[0;34m\u001b[0m\u001b[0;34m\u001b[0m\u001b[0m\n\u001b[0;32m--> 662\u001b[0;31m             \u001b[0;32mraise\u001b[0m \u001b[0mValueError\u001b[0m\u001b[0;34m(\u001b[0m\u001b[0;34m\"directory path for STIX data does not exist: %s\"\u001b[0m \u001b[0;34m%\u001b[0m \u001b[0mself\u001b[0m\u001b[0;34m.\u001b[0m\u001b[0m_stix_dir\u001b[0m\u001b[0;34m)\u001b[0m\u001b[0;34m\u001b[0m\u001b[0;34m\u001b[0m\u001b[0m\n\u001b[0m\u001b[1;32m    663\u001b[0m \u001b[0;34m\u001b[0m\u001b[0m\n\u001b[1;32m    664\u001b[0m     \u001b[0;34m@\u001b[0m\u001b[0mproperty\u001b[0m\u001b[0;34m\u001b[0m\u001b[0;34m\u001b[0m\u001b[0m\n",
      "\u001b[0;31mValueError\u001b[0m: directory path for STIX data does not exist: /Users/elisabethgoebel/Documents/Studium/Teamprojekt/enterprise-attack_data"
     ]
    }
   ],
   "source": [
    "from stix2 import FileSystemSource\n",
    "src = FileSystemSource('./enterprise-attack_data')"
   ]
  },
  {
   "cell_type": "code",
   "execution_count": null,
   "metadata": {},
   "outputs": [],
   "source": []
  }
 ],
 "metadata": {
  "kernelspec": {
   "display_name": "Python 3",
   "language": "python",
   "name": "python3"
  },
  "language_info": {
   "codemirror_mode": {
    "name": "ipython",
    "version": 3
   },
   "file_extension": ".py",
   "mimetype": "text/x-python",
   "name": "python",
   "nbconvert_exporter": "python",
   "pygments_lexer": "ipython3",
   "version": "3.8.5"
  }
 },
 "nbformat": 4,
 "nbformat_minor": 4
}
