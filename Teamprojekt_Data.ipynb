{
 "cells": [
  {
   "cell_type": "code",
   "execution_count": 18,
   "metadata": {},
   "outputs": [],
   "source": [
    "# importiere notwendige Bibliotheken\n",
    "import requests\n",
    "import json\n",
    "from bs4 import BeautifulSoup, SoupStrainer\n",
    "import csv\n",
    "import re\n",
    "\n",
    "# speichere url in Variable\n",
    "url = 'https://attack.mitre.org/software/'\n",
    "r = requests.get(url)\n",
    "\n",
    "soup = BeautifulSoup(r.text, 'html.parser')\n",
    "\n",
    "# sucht Tabelle mit der Klasse und gibt sie aus\n",
    "software_table = soup.find('table', class_ = 'table table-bordered table-alternate mt-2')\n",
    "#print(software_table)\n",
    "\n",
    "# gehen einen Schritt tiefer, weil alle relevanten Infos im Body sind\n",
    "data = []\n",
    "\n",
    "for software in software_table.find_all('tbody'):\n",
    "    rows = software.find_all('tr')\n",
    "    \n",
    "    for row in rows:\n",
    "        \n",
    "        # Speichere Namen, Link und ID\n",
    "        software_name = row.find('td').text.strip()\n",
    "        software_link = row.find('a', href = True)\n",
    "        software_id = software_link['href'].split('/')[2]\n",
    "\n",
    "        current_software_url = \"https://attack.mitre.org/\" + software_link['href']\n",
    "        # print(current_software_url)\n",
    " \n",
    "        # Speichere gesammelte Daten in Dictionary\n",
    "        softwaredict = {\"software_name\": software_name, \"software_link\": current_software_url, \"software_id\": software_id}\n",
    "        data.append(mydict)\n",
    "\n",
    "# speichere die Daten aus dem Dict in data \n",
    "# print(data)"
   ]
  },
  {
   "cell_type": "code",
   "execution_count": 7,
   "metadata": {},
   "outputs": [],
   "source": [
    "jsonStr = json.dumps(data)\n",
    "\n",
    "myList = open('softwarelist.txt','w')\n",
    "myList.write(jsonStr)\n",
    "myList.close()"
   ]
  },
  {
   "cell_type": "code",
   "execution_count": 198,
   "metadata": {},
   "outputs": [
    {
     "name": "stdout",
     "output_type": "stream",
     "text": [
      "<div class=\"card\">\n",
      "<div class=\"card-body\">\n",
      "<div class=\"card-data\"><span class=\"h5 card-title\">ID</span>: S0066</div>\n",
      "<div class=\"card-data\"><span class=\"h5 card-title\">Type</span>: MALWARE</div>\n",
      "<div class=\"card-data\"><span class=\"h5 card-title\">Platforms</span>: Windows</div>\n",
      "<div class=\"card-data\"><span class=\"h5 card-title\">Version</span>: 1.1</div>\n",
      "<div class=\"card-data\"><span class=\"h5 card-title\">Created: </span>31 May 2017</div>\n",
      "<div class=\"card-data\"><span class=\"h5 card-title\">Last Modified: </span>30 March 2020</div>\n",
      "</div>\n",
      "</div>\n",
      "Type: MALWARE\n",
      "Platform: Windows\n",
      "Created: 31 May 2017\n",
      "{'software_name': 'ZxShell', 'software_link': 'https://attack.mitre.org//software/S0412', 'software_id': 'S0412', 'software_type': 'MALWARE', 'software_platform': 'Windows', 'software_created': '31 May 2017'}\n"
     ]
    }
   ],
   "source": [
    "prop_table = soup.find('div', class_ = 'card')\n",
    "\n",
    "\n",
    "#Aus der Prop-Tabelle \n",
    "software_type = prop_table.findAll('div', class_ = \"card-data\")[1].text.split(': ')[1]\n",
    "software_platform = prop_table.findAll('div', class_ = \"card-data\")[2].text.split(': ')[1]\n",
    "software_created = prop_table.findAll('div', class_ = \"card-data\")[4].text.split(':')[1].strip()\n",
    "\n",
    "print(prop_table)\n",
    "\n",
    "print(\"Type: \" + software_type)\n",
    "print(\"Platform: \" + software_platform)\n",
    "print(\"Created: \" + software_created)\n",
    "\n",
    "softwaredict2 = {\"software_name\": software_name, \"software_link\": current_software_url, \"software_id\": software_id,\n",
    "                \"software_type\": software_type, \"software_platform\": software_platform, \"software_created\": software_created}\n",
    "\n",
    "print(softwaredict2)"
   ]
  },
  {
   "cell_type": "code",
   "execution_count": null,
   "metadata": {},
   "outputs": [],
   "source": [
    "r = requests.get(data[0]['software_link'])\n",
    "soup = BeautifulSoup(r.text, 'html.parser')\n",
    "\n",
    "tech_table = soup.find('table', class_ = 'table techniques-used table-bordered mt-2')\n",
    "\n",
    "for techniques in data_table.find_all('tbody'):\n",
    "    rows = techniques.find_all('tr')\n",
    "    for row in rows:\n",
    "        technique_domain = row.find('td').text.strip()\n",
    "        technique_id = row.findAll('td')[1].text.strip()\n",
    "        \n",
    "        # Subtechnique_id ist etwas komplizierter, da sie nicht immer existiert, aber wenn es sie gibt immer mit . startet\n",
    "        # setze die Subtechnique_id mit der technique_id zusammen\n",
    "        if \".\" in row.findAll('td')[2].text.strip():\n",
    "            subtechnique_id = technique_id + row.findAll('td')[2].text.strip()\n",
    "        else:\n",
    "            subtechnique_id = \"\"\n",
    "        print (subtechnique_id)\n",
    "        technique_name = row.find('td')[3].text\n",
    "        print(technique_name)"
   ]
  },
  {
   "cell_type": "code",
   "execution_count": null,
   "metadata": {},
   "outputs": [],
   "source": []
  },
  {
   "cell_type": "code",
   "execution_count": null,
   "metadata": {},
   "outputs": [],
   "source": []
  },
  {
   "cell_type": "code",
   "execution_count": null,
   "metadata": {},
   "outputs": [],
   "source": []
  },
  {
   "cell_type": "code",
   "execution_count": null,
   "metadata": {},
   "outputs": [],
   "source": []
  },
  {
   "cell_type": "code",
   "execution_count": null,
   "metadata": {},
   "outputs": [],
   "source": []
  },
  {
   "cell_type": "code",
   "execution_count": null,
   "metadata": {},
   "outputs": [],
   "source": []
  }
 ],
 "metadata": {
  "kernelspec": {
   "display_name": "Python 3",
   "language": "python",
   "name": "python3"
  },
  "language_info": {
   "codemirror_mode": {
    "name": "ipython",
    "version": 3
   },
   "file_extension": ".py",
   "mimetype": "text/x-python",
   "name": "python",
   "nbconvert_exporter": "python",
   "pygments_lexer": "ipython3",
   "version": "3.8.5"
  }
 },
 "nbformat": 4,
 "nbformat_minor": 4
}
