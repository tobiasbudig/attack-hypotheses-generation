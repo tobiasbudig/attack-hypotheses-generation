{
 "cells": [
  {
   "cell_type": "code",
   "execution_count": 120,
   "metadata": {},
   "outputs": [],
   "source": [
    "# importiere notwendige Bibliotheken\n",
    "import requests\n",
    "import json\n",
    "from bs4 import BeautifulSoup, SoupStrainer\n",
    "import csv\n",
    "import re\n",
    "\n",
    "# speichere url in Variable\n",
    "url = 'https://attack.mitre.org/software/'\n",
    "r = requests.get(url)\n",
    "\n",
    "soup = BeautifulSoup(r.text, 'html.parser')\n",
    "\n",
    "# sucht Tabelle mit der Klasse und gibt sie aus\n",
    "software_table = soup.find('table', class_ = 'table table-bordered table-alternate mt-2')\n",
    "# print(software_table)\n",
    "\n",
    "# gehen einen Schritt tiefer, weil alle relevanten Infos im Body sind\n",
    "software_data = []\n",
    "\n",
    "for software in software_table.find_all('tbody'):\n",
    "    rows = software.find_all('tr')\n",
    "    \n",
    "    for row in rows:\n",
    "        \n",
    "        # Speichere Namen, Link und ID\n",
    "        software_name = row.findAll('td')[1].text.strip()\n",
    "        software_link = row.find('a', href = True)\n",
    "        software_id = software_link['href'].split('/')[2]\n",
    "\n",
    "        software_url = \"https://attack.mitre.org/\" + software_link['href']\n",
    "        # print(current_software_url)\n",
    " \n",
    "        # Speichere gesammelte Daten in Dictionary\n",
    "        software_link_dict = {\"software_name\": software_name, \"software_link\": software_url, \n",
    "                              \"software_id\": software_id}\n",
    "        software_data.append(software_link_dict)\n",
    "\n",
    "# speichere die Daten aus dem Dict in data \n",
    "#print(software_data)"
   ]
  },
  {
   "cell_type": "code",
   "execution_count": 121,
   "metadata": {},
   "outputs": [],
   "source": [
    "jsonStr = json.dumps(software_data)\n",
    "\n",
    "myList = open('softwarelist.txt','w')\n",
    "myList.write(jsonStr)\n",
    "myList.close()"
   ]
  },
  {
   "cell_type": "code",
   "execution_count": 22,
   "metadata": {
    "scrolled": true
   },
   "outputs": [
    {
     "ename": "IndexError",
     "evalue": "list index out of range",
     "output_type": "error",
     "traceback": [
      "\u001b[0;31m---------------------------------------------------------------------------\u001b[0m",
      "\u001b[0;31mIndexError\u001b[0m                                Traceback (most recent call last)",
      "\u001b[0;32m<ipython-input-22-d1a5942a79cd>\u001b[0m in \u001b[0;36m<module>\u001b[0;34m\u001b[0m\n\u001b[1;32m     10\u001b[0m     \u001b[0;31m#Aus der Prop-Tabelle\u001b[0m\u001b[0;34m\u001b[0m\u001b[0;34m\u001b[0m\u001b[0;34m\u001b[0m\u001b[0m\n\u001b[1;32m     11\u001b[0m     \u001b[0msoftware_name\u001b[0m \u001b[0;34m=\u001b[0m \u001b[0msoftware_data\u001b[0m\u001b[0;34m[\u001b[0m\u001b[0mi\u001b[0m\u001b[0;34m]\u001b[0m\u001b[0;34m[\u001b[0m\u001b[0;34m'software_name'\u001b[0m\u001b[0;34m]\u001b[0m\u001b[0;34m\u001b[0m\u001b[0;34m\u001b[0m\u001b[0m\n\u001b[0;32m---> 12\u001b[0;31m     \u001b[0msoftware_id\u001b[0m \u001b[0;34m=\u001b[0m \u001b[0mprop_table\u001b[0m\u001b[0;34m.\u001b[0m\u001b[0mfindAll\u001b[0m\u001b[0;34m(\u001b[0m\u001b[0;34m'div'\u001b[0m\u001b[0;34m,\u001b[0m \u001b[0mclass_\u001b[0m \u001b[0;34m=\u001b[0m \u001b[0;34m\"card-data\"\u001b[0m\u001b[0;34m)\u001b[0m\u001b[0;34m[\u001b[0m\u001b[0;36m0\u001b[0m\u001b[0;34m]\u001b[0m\u001b[0;34m.\u001b[0m\u001b[0mtext\u001b[0m\u001b[0;34m.\u001b[0m\u001b[0msplit\u001b[0m\u001b[0;34m(\u001b[0m\u001b[0;34m': '\u001b[0m\u001b[0;34m)\u001b[0m\u001b[0;34m[\u001b[0m\u001b[0;36m1\u001b[0m\u001b[0;34m]\u001b[0m\u001b[0;34m\u001b[0m\u001b[0;34m\u001b[0m\u001b[0m\n\u001b[0m\u001b[1;32m     13\u001b[0m     \u001b[0msoftware_type\u001b[0m \u001b[0;34m=\u001b[0m \u001b[0mprop_table\u001b[0m\u001b[0;34m.\u001b[0m\u001b[0mfindAll\u001b[0m\u001b[0;34m(\u001b[0m\u001b[0;34m'div'\u001b[0m\u001b[0;34m,\u001b[0m \u001b[0mclass_\u001b[0m \u001b[0;34m=\u001b[0m \u001b[0;34m\"card-data\"\u001b[0m\u001b[0;34m)\u001b[0m\u001b[0;34m[\u001b[0m\u001b[0;36m1\u001b[0m\u001b[0;34m]\u001b[0m\u001b[0;34m.\u001b[0m\u001b[0mtext\u001b[0m\u001b[0;34m.\u001b[0m\u001b[0msplit\u001b[0m\u001b[0;34m(\u001b[0m\u001b[0;34m': '\u001b[0m\u001b[0;34m)\u001b[0m\u001b[0;34m[\u001b[0m\u001b[0;36m1\u001b[0m\u001b[0;34m]\u001b[0m\u001b[0;34m\u001b[0m\u001b[0;34m\u001b[0m\u001b[0m\n\u001b[1;32m     14\u001b[0m     \u001b[0msoftware_platform\u001b[0m \u001b[0;34m=\u001b[0m \u001b[0mprop_table\u001b[0m\u001b[0;34m.\u001b[0m\u001b[0mfindAll\u001b[0m\u001b[0;34m(\u001b[0m\u001b[0;34m'div'\u001b[0m\u001b[0;34m,\u001b[0m \u001b[0mclass_\u001b[0m \u001b[0;34m=\u001b[0m \u001b[0;34m\"card-data\"\u001b[0m\u001b[0;34m)\u001b[0m\u001b[0;34m[\u001b[0m\u001b[0;36m2\u001b[0m\u001b[0;34m]\u001b[0m\u001b[0;34m.\u001b[0m\u001b[0mtext\u001b[0m\u001b[0;34m.\u001b[0m\u001b[0msplit\u001b[0m\u001b[0;34m(\u001b[0m\u001b[0;34m': '\u001b[0m\u001b[0;34m)\u001b[0m\u001b[0;34m[\u001b[0m\u001b[0;36m1\u001b[0m\u001b[0;34m]\u001b[0m\u001b[0;34m\u001b[0m\u001b[0;34m\u001b[0m\u001b[0m\n",
      "\u001b[0;31mIndexError\u001b[0m: list index out of range"
     ]
    }
   ],
   "source": [
    "#einigemaßen lauffähiges Programm | Experimente mache ich unten\n",
    "complete_data = []\n",
    "\n",
    "for i in range(6,8):\n",
    "    r = requests.get(software_data[i]['software_link'])\n",
    "\n",
    "    soup = BeautifulSoup(r.text, 'html.parser')\n",
    "    prop_table = soup.find('div', class_ = 'card')\n",
    "\n",
    "    #Aus der Prop-Tabelle \n",
    "    software_name = software_data[i]['software_name']\n",
    "    software_id = prop_table.findAll('div', class_ = \"card-data\")[0].text.split(': ')[1]\n",
    "    software_type = prop_table.findAll('div', class_ = \"card-data\")[1].text.split(': ')[1]\n",
    "    software_platform = prop_table.findAll('div', class_ = \"card-data\")[2].text.split(': ')[1]\n",
    "    software_created = prop_table.findAll('div', class_ = \"card-data\")[4].text.split(':')[1].strip()\n",
    "    \n",
    "    print(\"Name:\" + software_name)\n",
    "    print(\"ID:\" + software_id)\n",
    "    print(\"Type: \" + software_type)\n",
    "    print(\"Platform: \" + software_platform)\n",
    "    print(\"Created: \" + software_created)\n",
    "    \n",
    "    for prop_data in prop_table:\n",
    "        info = prop_table.findAll('div', class_ = \"card-data\")\n",
    "        info.re.findall(sting)\n",
    "        print(info)\n",
    "    \n",
    "    tech_table = soup.find('table', class_ = 'table techniques-used table-bordered mt-2')\n",
    "\n",
    "    technique_data = []\n",
    "\n",
    "\n",
    "    for techniques in tech_table.find_all('tbody'):\n",
    "        rows = techniques.find_all('tr')\n",
    "        \n",
    "        for row in rows:\n",
    "            technique_domain = row.find('td').text.strip()\n",
    "            technique_id = row.findAll('td')[1].text.strip()\n",
    "\n",
    "            # Subtechnique_id ist etwas komplizierter, da sie nicht immer existiert, aber wenn es sie gibt immer mit . startet\n",
    "            # setze die Subtechnique_id mit der technique_id zusammen\n",
    "            if \".\" in row.findAll('td')[2].text.strip():\n",
    "                subtechnique_id = technique_id + row.findAll('td')[2].text.strip()\n",
    "            else:\n",
    "                subtechnique_id = \"\"\n",
    "\n",
    "            technique_name = row.findAll('td')[-2].text.strip()\n",
    "            technique_use = row.findAll('td')[-1].text.strip()\n",
    "\n",
    "            technique_dict = {\"technique_id\": technique_id, \"technique_name\": technique_name, \"technique_domain\": technique_domain,\n",
    "                             \"subtechnique_id\": subtechnique_id, \"technique_use\": technique_use}\n",
    "            technique_data.append(technique_dict) \n",
    "            \n",
    "        \n",
    "    software_dict = {\"software_name\": software_name, \"software_id\": software_id,\"software_type\": software_type,\n",
    "                    \"software_platform\": software_platform, \"software_created\": software_created, \"technique_data\": technique_data}\n",
    "    complete_data.append(software_dict)\n",
    "    \n",
    "print(complete_data)"
   ]
  },
  {
   "cell_type": "code",
   "execution_count": 103,
   "metadata": {},
   "outputs": [],
   "source": [
    "jsonStr = json.dumps(complete_data)\n",
    "\n",
    "myList = open('complete_data.txt','w')\n",
    "myList.write(jsonStr)\n",
    "myList.close()"
   ]
  },
  {
   "cell_type": "code",
   "execution_count": 153,
   "metadata": {},
   "outputs": [
    {
     "name": "stdout",
     "output_type": "stream",
     "text": [
      "Name: Anchor\n",
      "ID: S0504\n",
      "Created: 10 September 2020\n",
      "MALWARE\n",
      "Name: Android/AdDisplay.Ashas\n",
      "ID: S0525\n",
      "Created: 29 October 2020\n",
      "MALWARE\n"
     ]
    }
   ],
   "source": [
    "complete_data = []\n",
    "\n",
    "for i in range(11,13):\n",
    "    r = requests.get(software_data[i]['software_link'])\n",
    "\n",
    "    soup = BeautifulSoup(r.text, 'html.parser')\n",
    "    prop_table = soup.find('div', class_ = 'card')\n",
    "    prop_text = prop_table.text.strip()\n",
    "\n",
    "    # print(prop_table)\n",
    "    # print(prop_text)\n",
    "\n",
    "    #-----------------------PASST für Name, ID, Type und Created-----------------------\n",
    "    software_name = software_data[i]['software_name']\n",
    "    software_id = software_data[i]['software_id']\n",
    "    software_created = prop_table.findAll('div', class_ = \"card-data\")[-2].text.split(':')[1].strip()\n",
    "    software_type = software_type_ungroupe.group()\n",
    "    \n",
    "    print(\"Name: \" + software_name)\n",
    "    print(\"ID: \" + software_id)\n",
    "    print(\"Created: \" + software_created)\n",
    "     print(\"Type\" + software_type)\n",
    "    \n",
    "    #----------------------nun für Type und Plattform---------------------------\n",
    "    \n",
    "\n",
    "    \n",
    "    software_type_ungroupe = re.search(\"MALWARE\", prop_text) or re.search(\"TOOL\", prop_text)\n",
    "    software_type = software_type_ungroupe.group()\n",
    "    print(software_type)\n",
    "    \n",
    "    \n",
    "    #software_id = prop_table.findAll('div', class_ = \"card-data\")[0].text.split(': ')[1]\n",
    "    #software_type = prop_table.findAll('div', class_ = \"card-data\")[1].text.split(': ')[1]\n",
    "    #software_platform = prop_table.findAll('div', class_ = \"card-data\")[2].text.split(': ')[1]\n",
    "    #print(\"ID: \" + software_id)\n",
    "    #print(\"Type: \" + software_type)\n",
    "    #print(\"Platform: \" + software_platform)\n",
    "    \n",
    "    \n",
    "   \n",
    "    \n",
    "    #IDEEN    \n",
    "    software_id = prop_table.text.split('ID:')[1]\n",
    "    #(\"-----\" + software_id)\n",
    "    \n"
   ]
  },
  {
   "cell_type": "code",
   "execution_count": null,
   "metadata": {},
   "outputs": [],
   "source": []
  },
  {
   "cell_type": "code",
   "execution_count": null,
   "metadata": {},
   "outputs": [],
   "source": []
  },
  {
   "cell_type": "code",
   "execution_count": null,
   "metadata": {},
   "outputs": [],
   "source": []
  },
  {
   "cell_type": "code",
   "execution_count": null,
   "metadata": {},
   "outputs": [],
   "source": []
  },
  {
   "cell_type": "code",
   "execution_count": null,
   "metadata": {},
   "outputs": [],
   "source": []
  },
  {
   "cell_type": "code",
   "execution_count": null,
   "metadata": {},
   "outputs": [],
   "source": []
  }
 ],
 "metadata": {
  "kernelspec": {
   "display_name": "Python 3",
   "language": "python",
   "name": "python3"
  },
  "language_info": {
   "codemirror_mode": {
    "name": "ipython",
    "version": 3
   },
   "file_extension": ".py",
   "mimetype": "text/x-python",
   "name": "python",
   "nbconvert_exporter": "python",
   "pygments_lexer": "ipython3",
   "version": "3.8.5"
  }
 },
 "nbformat": 4,
 "nbformat_minor": 4
}
