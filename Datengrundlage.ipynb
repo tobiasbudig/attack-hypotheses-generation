{
 "cells": [
  {
   "cell_type": "code",
   "execution_count": 3,
   "metadata": {},
   "outputs": [],
   "source": [
    "import pandas as pd\n",
    "import csv"
   ]
  },
  {
   "cell_type": "code",
   "execution_count": 10,
   "metadata": {},
   "outputs": [
    {
     "data": {
      "text/plain": [
       "(            ID          created\n",
       " 0        T1548  30 January 2020\n",
       " 1    T1548.002  30 January 2020\n",
       " 2    T1548.004  30 January 2020\n",
       " 3    T1548.001  30 January 2020\n",
       " 4    T1548.003  30 January 2020\n",
       " ..         ...              ...\n",
       " 547  T1102.002    14 March 2020\n",
       " 548  T1102.001    14 March 2020\n",
       " 549  T1102.003    14 March 2020\n",
       " 550      T1047      31 May 2017\n",
       " 551      T1220  17 October 2018\n",
       " \n",
       " [552 rows x 2 columns],\n",
       "                  0            1             2            3            4    \\\n",
       " ID             S0066        S0065         S0469        S0045        S0073   \n",
       " created  31 May 2017  31 May 2017  10 June 2020  31 May 2017  31 May 2017   \n",
       " \n",
       "                       5                6            7                  8    \\\n",
       " ID                  S0552            S0331        S0092              S0504   \n",
       " created  28 December 2020  29 January 2019  31 May 2017  10 September 2020   \n",
       " \n",
       "                    9    ...           483          484          485  \\\n",
       " ID               S0584  ...         S0385        S0067        S0006   \n",
       " created  01 March 2021  ...  04 June 2019  31 May 2017  31 May 2017   \n",
       " \n",
       "                  486          487            488            489          490  \\\n",
       " ID             S0103        S0111          S0227          S0225        S0123   \n",
       " created  31 May 2017  31 May 2017  18 April 2018  18 April 2018  31 May 2017   \n",
       " \n",
       "                      491              492  \n",
       " ID                 S0248            S0350  \n",
       " created  17 October 2018  30 January 2019  \n",
       " \n",
       " [2 rows x 493 columns])"
      ]
     },
     "execution_count": 10,
     "metadata": {},
     "output_type": "execute_result"
    }
   ],
   "source": [
    "#Importiere die wichtigen Spalten aus den Excel-Datein\n",
    "software_table = pd.read_excel(\"./enterprise-attack-v9.0-software.xlsx\", \"software\", usecols = ['ID', 'created']).transpose()\n",
    "associations_table = pd.read_excel(\"./enterprise-attack-v9.0-software.xlsx\", \"techniques used\", usecols = ['source ID', 'target ID'])\n",
    "technique_table = pd.read_excel(\"./enterprise-attack-v9.0-techniques.xlsx\", \"techniques\", usecols = ['ID', 'created'])\n",
    "\n",
    "software_table.\n",
    "technique_table.set_index('ID')\n",
    "\n",
    "technique_table, software_table"
   ]
  },
  {
   "cell_type": "code",
   "execution_count": null,
   "metadata": {},
   "outputs": [],
   "source": []
  }
 ],
 "metadata": {
  "kernelspec": {
   "display_name": "Python 3",
   "language": "python",
   "name": "python3"
  },
  "language_info": {
   "codemirror_mode": {
    "name": "ipython",
    "version": 3
   },
   "file_extension": ".py",
   "mimetype": "text/x-python",
   "name": "python",
   "nbconvert_exporter": "python",
   "pygments_lexer": "ipython3",
   "version": "3.8.5"
  }
 },
 "nbformat": 4,
 "nbformat_minor": 4
}
