{
 "cells": [
  {
   "cell_type": "code",
   "execution_count": 8,
   "metadata": {},
   "outputs": [],
   "source": [
    "#Skrape hier die Liste mit den Softwarelinks von der attack.mitre.org-Page\n",
    "#speichere Liste mit ID, Name und Link in dict\n",
    "\n",
    "# importiere notwendige Bibliotheken\n",
    "import requests\n",
    "import json\n",
    "from bs4 import BeautifulSoup, SoupStrainer\n",
    "import csv\n",
    "import re\n",
    "\n",
    "# speichere url in Variable\n",
    "url = 'https://attack.mitre.org/software/'\n",
    "r = requests.get(url)\n",
    "\n",
    "soup = BeautifulSoup(r.text, 'html.parser')\n",
    "\n",
    "# sucht Tabelle mit der Klasse und gibt sie aus\n",
    "software_table = soup.find('table', class_ = 'table table-bordered table-alternate mt-2')\n",
    "\n",
    "# gehen einen Schritt tiefer, weil alle relevanten Infos im Body sind\n",
    "software_data = []\n",
    "\n",
    "for software in software_table.find_all('tbody'):\n",
    "    rows = software.find_all('tr')\n",
    "    \n",
    "    for row in rows:\n",
    "        \n",
    "        # Speichere Namen, Link und ID\n",
    "        software_name = row.findAll('td')[1].text.strip()\n",
    "        software_link = row.find('a', href = True)\n",
    "        software_id = software_link['href'].split('/')[2]\n",
    "\n",
    "        software_url = \"https://attack.mitre.org/\" + software_link['href']\n",
    "        json_link = software_url + \"/\" + software_id + \"-enterprise-layer.json\"\n",
    "        # print(current_software_url)\n",
    " \n",
    "        # Speichere gesammelte Daten in Dictionary\n",
    "        software_link_dict = {\"software_name\": software_name, \"software_link\": software_url, \n",
    "                              \"software_id\": software_id, \"json_link\": json_link}\n",
    "        software_data.append(software_link_dict)\n"
   ]
  },
  {
   "cell_type": "code",
   "execution_count": 9,
   "metadata": {},
   "outputs": [],
   "source": [
    "jsonStr = json.dumps(software_data)\n",
    "\n",
    "myList = open('softwarelist.txt','w')\n",
    "myList.write(jsonStr)\n",
    "myList.close()"
   ]
  },
  {
   "cell_type": "code",
   "execution_count": null,
   "metadata": {
    "scrolled": true
   },
   "outputs": [],
   "source": [
    "#einigemaßen lauffähiges Programm | Experimente mache ich unten\n",
    "complete_data = []\n",
    "\n",
    "for i in range(6,8):\n",
    "    r = requests.get(software_data[i]['software_link'])\n",
    "\n",
    "    soup = BeautifulSoup(r.text, 'html.parser')\n",
    "    prop_table = soup.find('div', class_ = 'card')\n",
    "\n",
    "    #Lese aus der softwarelist.txt noch Name und Id aus\n",
    "    software_name = software_data[i]['software_name']\n",
    "    software_id = software_data[i]['software_id']\n",
    "    \n",
    "\n",
    "    tech_table = soup.find('table', class_ = 'table techniques-used table-bordered mt-2')\n",
    "\n",
    "    technique_data = []\n",
    "\n",
    "    for techniques in tech_table.find_all('tbody'):\n",
    "        rows = techniques.find_all('tr')\n",
    "        \n",
    "        for row in rows:\n",
    "            technique_id = row.findAll('td')[1].text.strip()\n",
    "            \n",
    "            if \".\" in row.findAll('td')[2].text.strip():\n",
    "                subtechnique_id = technique_id + row.findAll('td')[2].text.strip()\n",
    "            else:\n",
    "                subtechnique_id = \"\"\n",
    "\n",
    "            technique_dict = {\"technique_id\": technique_id, \"technique_name\": technique_name, \"technique_domain\": technique_domain,\n",
    "                             \"subtechnique_id\": subtechnique_id, \"technique_use\": technique_use}\n",
    "            technique_data.append(technique_dict) \n",
    "            \n",
    "        \n",
    "    software_dict = {\"software_name\": software_name, \"software_id\": software_id, \"technique_data\": technique_data}\n",
    "    complete_data.append(software_dict)\n",
    "    \n",
    "print(complete_data)"
   ]
  },
  {
   "cell_type": "code",
   "execution_count": null,
   "metadata": {},
   "outputs": [],
   "source": []
  },
  {
   "cell_type": "code",
   "execution_count": 29,
   "metadata": {
    "scrolled": false
   },
   "outputs": [
    {
     "name": "stdout",
     "output_type": "stream",
     "text": [
      "https://attack.mitre.org//software/S0066/S0066-enterprise-layer.json\n",
      "3PARA RAT\n",
      "-------\n",
      "[{'software_name': '3PARA RAT', 'software_id': 'S0066', 'technique_data': [{'technique_id': 'T1071', 'issubtechnique': True}, {'technique_id': 'T1071.001', 'issubtechnique': True}, {'technique_id': 'T1573', 'issubtechnique': True}, {'technique_id': 'T1573.001', 'issubtechnique': True}, {'technique_id': 'T1083', 'issubtechnique': False}, {'technique_id': 'T1070', 'issubtechnique': True}, {'technique_id': 'T1070.006', 'issubtechnique': True}]}]\n"
     ]
    }
   ],
   "source": [
    "#WORKING!!!\n",
    "\n",
    "#neuer Versuch, die Daten über die json zu bekommen\n",
    "technique_data = []\n",
    "complete_data = []\n",
    "\n",
    "for i in range(0,1):\n",
    "    r = requests.get(software_data[i]['json_link'])\n",
    "    print(software_data[i]['json_link'])\n",
    "\n",
    "    soup = BeautifulSoup(r.text, 'html.parser')\n",
    "    #json_file = soup.find('a', class_ = 'drop')\n",
    "\n",
    "    #Lese aus der softwarelist.txt noch Name und Id aus\n",
    "    software_name = software_data[i]['software_name']\n",
    "    software_id = software_data[i]['software_id']\n",
    "    print(software_name)\n",
    "    soup_string = str(soup)\n",
    "\n",
    "    json_data = json.loads(soup_string)\n",
    "    \n",
    "    #print(json_data['techniques'])\n",
    "    \n",
    "    for technique in json_data['techniques']:\n",
    "        technique_id = technique['techniqueID']\n",
    "        issubtechnique = technique['showSubtechniques']\n",
    "        technique_dict = {\"technique_id\": technique_id, \"issubtechnique\": issubtechnique}\n",
    "        technique_data.append(technique_dict)   \n",
    "    #print(technique_data)\n",
    "    #print(\"\")\n",
    "\n",
    "    print(\"-------\")\n",
    "\n",
    "    software_dict = {\"software_name\": software_name, \"software_id\": software_id, \"technique_data\": technique_data}\n",
    "    complete_data.append(software_dict)\n",
    "    \n",
    "print(complete_data)"
   ]
  },
  {
   "cell_type": "code",
   "execution_count": null,
   "metadata": {},
   "outputs": [],
   "source": []
  },
  {
   "cell_type": "code",
   "execution_count": null,
   "metadata": {},
   "outputs": [],
   "source": []
  }
 ],
 "metadata": {
  "kernelspec": {
   "display_name": "Python 3",
   "language": "python",
   "name": "python3"
  },
  "language_info": {
   "codemirror_mode": {
    "name": "ipython",
    "version": 3
   },
   "file_extension": ".py",
   "mimetype": "text/x-python",
   "name": "python",
   "nbconvert_exporter": "python",
   "pygments_lexer": "ipython3",
   "version": "3.8.5"
  }
 },
 "nbformat": 4,
 "nbformat_minor": 4
}
