{
 "cells": [
  {
   "cell_type": "code",
   "execution_count": 328,
   "metadata": {},
   "outputs": [],
   "source": [
    "import numpy as np\n",
    "import random\n",
    "import matplotlib.pyplot as plt\n",
    "import pandas as pd\n",
    "import datetime"
   ]
  },
  {
   "cell_type": "code",
   "execution_count": 329,
   "metadata": {},
   "outputs": [],
   "source": [
    "# read in excel with techniques and probabilities, sheet X removed latest 20%\n",
    "excel_file_X = pd.read_excel(r\"C:\\Users\\Jurek\\Documents\\Uni\\Teamprojekt\\attack-hypotheses-generation\\reduced_table_with_timestamps_and_props.xlsx\", sheet_name=\"X\")\n",
    "excel_file_X = excel_file_X.set_index([\"ID\"])\n",
    "\n",
    "# read in excel with correlations of techniques needed for fitness function\n",
    "excel_corr = pd.read_excel(r\"C:\\Users\\Jurek\\Documents\\Uni\\Teamprojekt\\attack-hypotheses-generation\\regression\\corr_techniques.xlsx\", sheet_name = \"Sheet1\")\n",
    "excel_corr = excel_corr.drop('Unnamed: 0', 1)\n",
    "\n",
    "# extract probabilities from excel and save as pd data frame\n",
    "probs = pd.DataFrame(excel_file_X.iloc[0])\n",
    "probs.iloc[0]\n",
    "probs = probs.iloc[1:]\n",
    "\n",
    "# read in excel with newest 20 percent of techniques for evaluation\n",
    "excel_file_Y = pd.read_excel(r\"C:\\Users\\Jurek\\Documents\\Uni\\Teamprojekt\\attack-hypotheses-generation\\reduced_table_with_timestamps_and_props.xlsx\", sheet_name=\"y\")\n",
    "excel_file_Y = excel_file_Y.drop(excel_file_Y.tail(2).index, axis=0)\n",
    "excel_file_Y.set_index('ID', inplace = True)\n",
    "excel_file_Y_t = excel_file_Y.T\n",
    "excel_file_Y_t = excel_file_Y_t.drop(['created'], axis = 0)"
   ]
  },
  {
   "cell_type": "code",
   "execution_count": 330,
   "metadata": {
    "scrolled": true
   },
   "outputs": [],
   "source": [
    "# read csv, convert creation dates to datetime format, sort column creation date\n",
    "# csv_file = pd.read_csv(r\"C:\\Users\\Jurek\\Documents\\Uni\\Teamprojekt\\attack-hypotheses-generation\\matrix-with-timestemps-READY.csv\",sep=\";\")\n",
    "# csv_file_t = csv_file.T\n",
    "# new_header = csv_file_t.iloc[0] #grab the first row for the header\n",
    "# csv_file_t = csv_file_t[1:] #take the data less the header row\n",
    "# csv_file_t.columns = new_header #set the header row as the df header\n",
    "# csv_file_t['created'] = pd.to_datetime(csv_file_t['created'])\n",
    "# csv_file_t\n",
    "# csv_file_t.sort_values(by=['created'])"
   ]
  },
  {
   "cell_type": "code",
   "execution_count": 331,
   "metadata": {},
   "outputs": [],
   "source": [
    "# function to create a starting population\n",
    "def create_starting_population(individuals):\n",
    "    # maybe later: add restriction for amount of ones in chromosome --> added\n",
    "    # population = np.random.randint (2, size=(individuals, len(probs)))\n",
    "    population = np.random.choice([0,1], size=(individuals, len(probs)), p= np.array([0.95,0.05])) # adjust % for number of ones\n",
    "    return population"
   ]
  },
  {
   "cell_type": "code",
   "execution_count": 332,
   "metadata": {},
   "outputs": [],
   "source": [
    "# example starting population\n",
    "# print (create_starting_population(6))\n"
   ]
  },
  {
   "cell_type": "code",
   "execution_count": 435,
   "metadata": {},
   "outputs": [],
   "source": [
    "# function to calculate fitness of every individual in the current population\n",
    "def calculate_fitness(individuals, probs):\n",
    "    \n",
    "    individuals = np.array(individuals) # individuals = 6x269\n",
    "    probs = np.array (probs) # array with probabilities\n",
    "    ones = np.ones(len(probs)) # number of ones 269x1\n",
    "    occurrences = (individuals @ ones) # number of ones in individual 6x1\n",
    "    P = individuals # 6x269\n",
    "    corr = np.array(excel_corr).reshape(269,269)\n",
    "    np.fill_diagonal(corr, 0) # 269x269, correlation matrix with 0 self covariance\n",
    "    A = (P @ corr) # 6x269\n",
    "    K = (P @ A.T) # 6x6\n",
    "    k = K.diagonal() # diagonal elements of matrix K \n",
    "    print(k.shape)\n",
    "    \n",
    "#    corr = (individuals @ excel_corr) # array with population x correlations 6x269\n",
    "#    print(corr)\n",
    "#    print(excel_corr.shape)\n",
    "#    print(corr.shape)\n",
    "    \n",
    "#     print (occurrences)\n",
    "#     print (individuals.shape)\n",
    "#     print (probs.shape)\n",
    "    \n",
    "    \n",
    "    \n",
    "    a = 100*(individuals @ probs)\n",
    "    b = (np.subtract(occurrences,11)) # Intervall?\n",
    "    c = (b**2)/2 # Wert 2 muss noch angepasst werden\n",
    "    \n",
    "#     target = 100*(individuals @ probs)\n",
    "#     penalty = (np.subtract(occurrences,11))\n",
    "#     for x in penalty:\n",
    "#         if x > 0: # if occurence of 1s is higher than the average of 11\n",
    "#             x = (x**2)/2\n",
    "#         else: # if occurence of 1s is below the average of 11\n",
    "#             x = x*20\n",
    "        \n",
    "    \n",
    "#    print(\"\")\n",
    "    print (a.shape)\n",
    "#     print(\"\")\n",
    "#     print(occurrences)\n",
    "#     print(\"\")\n",
    "#     print (b)\n",
    "#     print(\"\")\n",
    "#     print (c)\n",
    "    fitness_scores = ((a.T+k*0.7)-c) # best results with a.t/2+k*0.7-c\n",
    "#    fitness_scores = fitness_scores_nd.tolist()\n",
    "#    fitness_scores = np.subtract((k), c)\n",
    "#    fitness_scores = np.subtract(a.T, c)\n",
    "    print (fitness_scores.shape)\n",
    "    \n",
    "    return fitness_scores"
   ]
  },
  {
   "cell_type": "code",
   "execution_count": 436,
   "metadata": {},
   "outputs": [
    {
     "name": "stdout",
     "output_type": "stream",
     "text": [
      "Startpopulation\n",
      "[[0 0 0 ... 0 0 0]\n",
      " [0 0 0 ... 0 0 0]\n",
      " [1 0 0 ... 0 0 0]\n",
      " [0 0 0 ... 0 0 0]\n",
      " [0 0 0 ... 0 0 0]\n",
      " [0 0 1 ... 0 0 0]]\n",
      "(6,)\n",
      "(6, 1)\n",
      "(1, 6)\n"
     ]
    },
    {
     "data": {
      "text/plain": [
       "array([[-3.1436406876617653, 1.8894194498931265, 7.6954314647658855,\n",
       "        2.666688835351753, -0.32128928302664583, 1.7234967771893412]],\n",
       "      dtype=object)"
      ]
     },
     "execution_count": 436,
     "metadata": {},
     "output_type": "execute_result"
    }
   ],
   "source": [
    "test1 = create_starting_population(6)\n",
    "print('Startpopulation')\n",
    "print(test1)\n",
    "\n",
    "calculate_fitness(test1, probs)"
   ]
  },
  {
   "cell_type": "code",
   "execution_count": 390,
   "metadata": {},
   "outputs": [],
   "source": [
    "# pd.set_option('display.max_columns', None)\n",
    "# pd.DataFrame(test1)"
   ]
  },
  {
   "cell_type": "code",
   "execution_count": 391,
   "metadata": {},
   "outputs": [],
   "source": [
    "#function to select individuals by using tournament selection\n",
    "def select_individual_by_tournament(population, scores):\n",
    "#     print (population)\n",
    "#     print (\"pop - scores\")\n",
    "#     print (scores)\n",
    "    \n",
    "    # get population size\n",
    "    population_size = len(scores)\n",
    "    \n",
    "\n",
    "    # pick individuals for tournament\n",
    "    fighter_1 = random.randint(0, population_size-1)\n",
    "    fighter_2 = random.randint(0, population_size-1)\n",
    "    \n",
    "    # get fitness score for each individual\n",
    "    fighter_1_fitness = scores[fighter_1]\n",
    "    fighter_2_fitness = scores[fighter_2]\n",
    "    \n",
    "#     print(\"fighter_1_fitness\")\n",
    "#     print (scores[0])\n",
    "    \n",
    "    # identify undividual with highest fitness\n",
    "    # fighter 1 will win if scores are equal\n",
    "    if fighter_1_fitness >= fighter_2_fitness:\n",
    "        winner = fighter_1\n",
    "    else:\n",
    "        winner = fighter_2\n",
    "    \n",
    "    #return the chromsome of the winner\n",
    "    return population[winner, :]"
   ]
  },
  {
   "cell_type": "code",
   "execution_count": 392,
   "metadata": {},
   "outputs": [],
   "source": [
    "# function to select individuals by using roulette wheel selection\n",
    "# cannot be used yet, since it does not accept negative fitness values\n",
    "# fitness value will represent the selection probability, which can't be negative\n",
    "# idea1: normalise fitness values\n",
    "# idea2: subtract the lowest (negative) value from all fitness values. The lowest fitness value is now zero.\n",
    "def select_individual_by_roulette(population, k, scores): # list of individuals to select from, number of individuals to select, attribute to use as selection criteria\n",
    "    s_inds = sorted(individuals, key = attrgetter(scores), reverse = True)\n",
    "    sum_sc = sum(getattr(ind, scores).values[0] for ind in population)\n",
    "    chosen = []\n",
    "    for i in range(k):\n",
    "        u = random.random()*sum_sc\n",
    "        sum1 = 0\n",
    "        for ind in s_inds:\n",
    "            sum1 += getattr(ind, scores).values[0]\n",
    "            if sum1 > u:\n",
    "                chosen.append(ind)\n",
    "                break\n",
    "            \n",
    "    return chosen"
   ]
  },
  {
   "cell_type": "code",
   "execution_count": 393,
   "metadata": {},
   "outputs": [],
   "source": [
    "# function for executing one point crossover\n",
    "# def breed_by_crossover_1point(parent_1, parent_2):\n",
    "#     # get length of chromosome\n",
    "#     chromosome_length = min(len(parent_1), len(parent_2))\n",
    "    \n",
    "#     # pick crossover point, avoding ends of chromsome\n",
    "#     crossover_point = random.randint(1,chromosome_length-1)\n",
    "    \n",
    "#     # create children. np.hstack joins two arrays\n",
    "#     child_1 = np.hstack((parent_1[0:crossover_point],\n",
    "#                         parent_2[crossover_point:]))\n",
    "    \n",
    "#     child_2 = np.hstack((parent_2[0:crossover_point],\n",
    "#                         parent_1[crossover_point:]))\n",
    "    \n",
    "#     # return children\n",
    "#     return child_1, child_2"
   ]
  },
  {
   "cell_type": "code",
   "execution_count": 394,
   "metadata": {},
   "outputs": [],
   "source": [
    "# function for executing one point crossover\n",
    "def breed_by_crossover_1point(ind1, ind2):\n",
    "    chromosome_length = min(len(ind1), len(ind2))\n",
    "    crossover_point = random.randint(1, chromosome_length-1)\n",
    "    \n",
    "    ind1[crossover_point:], ind2[crossover_point:] = ind2[crossover_point:], ind1[crossover_point:]\n",
    "    \n",
    "    return ind1, ind2"
   ]
  },
  {
   "cell_type": "code",
   "execution_count": 395,
   "metadata": {},
   "outputs": [],
   "source": [
    "# function for executin two point crossover\n",
    "def breed_by_crossover_2point(ind1, ind2):\n",
    "    chromosome_length = min(len(ind1), len(ind2))\n",
    "    crossover_point1 = random.randint(1, chromosome_length)\n",
    "    crossover_point2 = random.randint(1, chromosome_length-1)\n",
    "    \n",
    "    if crossover_point2 >= crossover_point1:\n",
    "        crossover_point2 += 1\n",
    "    else: # swapping the two crossover points\n",
    "        crossover_point1, crossover_point2 = crossover_point2, crossover_point1\n",
    "        \n",
    "    ind1[crossover_point1: crossover_point2], ind2[crossover_point1: crossover_point2] \\\n",
    "        = ind2[crossover_point1: crossover_point2], ind1[crossover_point1: crossover_point2]\n",
    "    \n",
    "    return ind1, ind2"
   ]
  },
  {
   "cell_type": "code",
   "execution_count": 396,
   "metadata": {},
   "outputs": [],
   "source": [
    "# function for executing uniform crossover\n",
    "def breed_by_crossover_uniform(ind1, ind2, indpb):\n",
    "    # parameter indpb is the indipendent probability for each bit to be exchanged\n",
    "    # get length of chromosome\n",
    "    chromosome_length = min(len(ind1), len(ind2))\n",
    "    \n",
    "    for i in range(chromosome_length):\n",
    "        if random.random() < indpb: #add: lower probability that 0 --> 1 than the probability that 1 --> 0\n",
    "             ind1[i], ind2[i] = ind2[i], ind1[i]\n",
    "    return ind1, ind2"
   ]
  },
  {
   "cell_type": "code",
   "execution_count": 397,
   "metadata": {},
   "outputs": [],
   "source": [
    "# function to mutate population\n",
    "def randomly_mutate_population(population, mutation_probability):\n",
    "    \n",
    "    # apply random mutation\n",
    "        random_mutation_array = np.random.random(\n",
    "            size=(population.shape))\n",
    "        \n",
    "        random_mutation_boolean = \\\n",
    "            random_mutation_array <= mutation_probability\n",
    "\n",
    "        population[random_mutation_boolean] = \\\n",
    "        np.logical_not(population[random_mutation_boolean])\n",
    "        \n",
    "        # return mutation population\n",
    "        return population"
   ]
  },
  {
   "cell_type": "code",
   "execution_count": 401,
   "metadata": {
    "scrolled": false
   },
   "outputs": [
    {
     "name": "stdout",
     "output_type": "stream",
     "text": [
      "Starting best score: 8.8\n",
      "End best score -4171.5\n",
      "[106. 106. 106. 106. 106. 106. 107. 106. 106. 105. 106. 106. 106. 106.\n",
      " 105. 105. 107. 106. 106. 106.]\n"
     ]
    },
    {
     "data": {
      "image/png": "[encoded data removed]",
      "text/plain": [
       "<Figure size 432x288 with 1 Axes>"
      ]
     },
     "metadata": {
      "needs_background": "light"
     },
     "output_type": "display_data"
    }
   ],
   "source": [
    "# main algorithm code\n",
    "# set general parameters\n",
    "chromosome_length = len(probs)\n",
    "population_size = 20\n",
    "maximum_generation = 800 # tested with 1000 generations, 250 to 300 generations seems reasonable for iterations\n",
    "best_score_progress = [] # tracks progress\n",
    "\n",
    "# create starting population\n",
    "population = create_starting_population(population_size)\n",
    "\n",
    "# print (population)\n",
    "# display best score in starting population\n",
    "scores = calculate_fitness(population, probs)\n",
    "best_score = np.max(scores)\n",
    "print ('Starting best score: %.1f' %best_score)\n",
    "\n",
    "# add starting best score to progress tracker\n",
    "best_score_progress.append(best_score)\n",
    "\n",
    "# going through the generations of genetic algorithm\n",
    "for generation in range(maximum_generation):\n",
    "    # create an empty list for new population\n",
    "    new_population = []\n",
    "    \n",
    "    # create new popualtion generating two children at a time\n",
    "    for i in range(int(population_size/2)):\n",
    "        parent_1 = select_individual_by_tournament(population, scores)\n",
    "        parent_2 = select_individual_by_tournament(population, scores)\n",
    "        #child_1, child_2 = breed_by_crossover_1point(parent_1, parent_2)\n",
    "        #child_1, child_2 = breed_by_crossover_2point(parent_1, parent_2) # Results are not as promising as with the others\n",
    "        child_1, child_2 = breed_by_crossover_uniform(parent_1, parent_2, 0.5)\n",
    "        new_population.append(child_1)\n",
    "        new_population.append(child_2)\n",
    "    \n",
    "    # replace the old population with the new one\n",
    "    population = np.array(new_population)\n",
    "    \n",
    "    # apply mutation\n",
    "    mutation_rate = 0.001\n",
    "    population = randomly_mutate_population(population, mutation_rate)\n",
    "\n",
    "    # score best solution, and add to tracker\n",
    "    scores = calculate_fitness(population, probs)\n",
    "    best_score = np.max(scores)\n",
    "    best_score_progress.append(best_score)\n",
    "    \n",
    "    # print(best_score)\n",
    "\n",
    "# GA has completed required generation number\n",
    "print ('End best score %.1f' %best_score)\n",
    "\n",
    "ones = np.ones(len(probs)) # number of ones 269x1\n",
    "occurrences = (population @ ones)\n",
    "print (occurrences)\n",
    "\n",
    "# plot progress\n",
    "%matplotlib inline\n",
    "plt.plot(best_score_progress)\n",
    "plt.xlabel('Generation')\n",
    "plt.ylabel('Best score (% target)')\n",
    "plt.show()"
   ]
  },
  {
   "cell_type": "code",
   "execution_count": 402,
   "metadata": {},
   "outputs": [],
   "source": [
    "# for i in range(0,10):\n",
    "#     print (population[i])"
   ]
  },
  {
   "cell_type": "code",
   "execution_count": 403,
   "metadata": {},
   "outputs": [
    {
     "name": "stdout",
     "output_type": "stream",
     "text": [
      "Best score target generation: -4171.5\n",
      "Position in Array: [0 0 0 0 0 0 0 0 0 0 0 0 0 0 0 0 0 0 0 0]\n",
      "Number of Ones: [106. 106. 106. 106. 106. 106. 106. 106. 106. 106. 106. 106. 106. 106.\n",
      " 106. 106. 106. 106. 106. 106.]\n",
      "\n",
      "Respective Chromosome: [[0 0 1 ... 1 1 0]\n",
      " [0 0 1 ... 1 1 0]\n",
      " [0 0 1 ... 1 1 0]\n",
      " ...\n",
      " [0 0 1 ... 1 1 0]\n",
      " [0 0 1 ... 1 1 0]\n",
      " [0 0 1 ... 1 1 0]]\n",
      "\n",
      "Techniques used:\n"
     ]
    },
    {
     "ename": "ValueError",
     "evalue": "The truth value of an array with more than one element is ambiguous. Use a.any() or a.all()",
     "output_type": "error",
     "traceback": [
      "\u001b[1;31m---------------------------------------------------------------------------\u001b[0m",
      "\u001b[1;31mValueError\u001b[0m                                Traceback (most recent call last)",
      "\u001b[1;32m<ipython-input-403-6a95463e4a2c>\u001b[0m in \u001b[0;36m<module>\u001b[1;34m\u001b[0m\n\u001b[0;32m     11\u001b[0m \u001b[0mi\u001b[0m \u001b[1;33m=\u001b[0m \u001b[1;36m0\u001b[0m\u001b[1;33m\u001b[0m\u001b[1;33m\u001b[0m\u001b[0m\n\u001b[0;32m     12\u001b[0m \u001b[1;32mfor\u001b[0m \u001b[0mrow\u001b[0m \u001b[1;32min\u001b[0m \u001b[0mprobs\u001b[0m\u001b[1;33m.\u001b[0m\u001b[0mindex\u001b[0m\u001b[1;33m:\u001b[0m\u001b[1;33m\u001b[0m\u001b[1;33m\u001b[0m\u001b[0m\n\u001b[1;32m---> 13\u001b[1;33m     \u001b[1;32mif\u001b[0m \u001b[0mpopulation\u001b[0m \u001b[1;33m[\u001b[0m\u001b[0mmax_index_row\u001b[0m\u001b[1;33m]\u001b[0m\u001b[1;33m[\u001b[0m\u001b[0mi\u001b[0m\u001b[1;33m]\u001b[0m \u001b[1;33m==\u001b[0m \u001b[1;36m1\u001b[0m\u001b[1;33m:\u001b[0m\u001b[1;33m\u001b[0m\u001b[1;33m\u001b[0m\u001b[0m\n\u001b[0m\u001b[0;32m     14\u001b[0m         \u001b[0mprint\u001b[0m\u001b[1;33m(\u001b[0m\u001b[0mrow\u001b[0m\u001b[1;33m)\u001b[0m\u001b[1;33m\u001b[0m\u001b[1;33m\u001b[0m\u001b[0m\n\u001b[0;32m     15\u001b[0m     \u001b[0mi\u001b[0m\u001b[1;33m+=\u001b[0m\u001b[1;36m1\u001b[0m\u001b[1;33m\u001b[0m\u001b[1;33m\u001b[0m\u001b[0m\n",
      "\u001b[1;31mValueError\u001b[0m: The truth value of an array with more than one element is ambiguous. Use a.any() or a.all()"
     ]
    }
   ],
   "source": [
    "# Print out information about best individuum\n",
    "print('Best score target generation: %.1f' %best_score)\n",
    "max_index_row = np.argmax(scores, axis=0)\n",
    "print ('Position in Array:', max_index_row)\n",
    "print(\"Number of Ones:\", occurrences[max_index_row])\n",
    "print(\"\")\n",
    "print(\"Respective Chromosome:\", population[max_index_row] )\n",
    "print(\"\")\n",
    "\n",
    "print(\"Techniques used:\")\n",
    "i = 0\n",
    "for row in probs.index: \n",
    "    if population [max_index_row][i] == 1:\n",
    "        print(row)\n",
    "    i+=1\n",
    "#excel_file_Y_t = excel_file_Y_t.set_index(['ID'])\n",
    "#excel_file_Y_t = excel_file_Y_t.drop([100,101], axis = 1)\n",
    "\n",
    "best_sw = np.tile(population[max_index_row],1) \n",
    "# excel_file_Y_t\n",
    "# print(scores)"
   ]
  },
  {
   "cell_type": "code",
   "execution_count": 404,
   "metadata": {},
   "outputs": [],
   "source": [
    "# class to combine scores, occurrences and population\n",
    "class result:\n",
    "    def __init__(self, score, occurences, population):\n",
    "        self.score = score\n",
    "        self.occurences = occurences\n",
    "        self.population = population\n",
    "\n",
    "# sort attribute scores in order to select best X individuums for evaluation\n",
    "results = []\n",
    "for i in range(0,len(scores)):\n",
    "#    print(i)\n",
    "    r1 = result(scores[i], occurrences[i], population[i])\n",
    "    results.append(r1)\n",
    "    \n",
    "import operator\n",
    "sorted_results = sorted(results, key=operator.attrgetter('score'))"
   ]
  },
  {
   "cell_type": "code",
   "execution_count": 405,
   "metadata": {},
   "outputs": [],
   "source": [
    "# for i in sorted_results:\n",
    "#     print(i.population)"
   ]
  },
  {
   "cell_type": "code",
   "execution_count": 406,
   "metadata": {
    "scrolled": false
   },
   "outputs": [
    {
     "ename": "IndexError",
     "evalue": "list index out of range",
     "output_type": "error",
     "traceback": [
      "\u001b[1;31m---------------------------------------------------------------------------\u001b[0m",
      "\u001b[1;31mIndexError\u001b[0m                                Traceback (most recent call last)",
      "\u001b[1;32m<ipython-input-406-48368efd467e>\u001b[0m in \u001b[0;36m<module>\u001b[1;34m\u001b[0m\n\u001b[0;32m      3\u001b[0m \u001b[1;32mfor\u001b[0m \u001b[0mi\u001b[0m \u001b[1;32min\u001b[0m \u001b[0mrange\u001b[0m\u001b[1;33m(\u001b[0m\u001b[0mlen\u001b[0m\u001b[1;33m(\u001b[0m\u001b[0msorted_results\u001b[0m\u001b[1;33m)\u001b[0m\u001b[1;33m-\u001b[0m\u001b[1;36m5\u001b[0m\u001b[1;33m,\u001b[0m\u001b[0mlen\u001b[0m\u001b[1;33m(\u001b[0m\u001b[0msorted_results\u001b[0m\u001b[1;33m)\u001b[0m\u001b[1;33m)\u001b[0m\u001b[1;33m:\u001b[0m\u001b[1;33m\u001b[0m\u001b[1;33m\u001b[0m\u001b[0m\n\u001b[0;32m      4\u001b[0m     \u001b[1;31m#best_sw = np.tile(sorted_results[i].population,1)\u001b[0m\u001b[1;33m\u001b[0m\u001b[1;33m\u001b[0m\u001b[1;33m\u001b[0m\u001b[0m\n\u001b[1;32m----> 5\u001b[1;33m     \u001b[0mbest_sw\u001b[0m \u001b[1;33m=\u001b[0m \u001b[0msorted_results\u001b[0m\u001b[1;33m[\u001b[0m\u001b[0mi\u001b[0m\u001b[1;33m]\u001b[0m\u001b[1;33m.\u001b[0m\u001b[0mpopulation\u001b[0m\u001b[1;33m\u001b[0m\u001b[1;33m\u001b[0m\u001b[0m\n\u001b[0m\u001b[0;32m      6\u001b[0m     \u001b[0mprint\u001b[0m\u001b[1;33m(\u001b[0m\u001b[1;34m\"---NEXT INDIVIDUUM---\"\u001b[0m\u001b[1;33m)\u001b[0m\u001b[1;33m\u001b[0m\u001b[1;33m\u001b[0m\u001b[0m\n\u001b[0;32m      7\u001b[0m     \u001b[0mprint\u001b[0m\u001b[1;33m(\u001b[0m\u001b[1;34m\"Fitness score of individuum: \"\u001b[0m\u001b[1;33m,\u001b[0m\u001b[0msorted_results\u001b[0m\u001b[1;33m[\u001b[0m\u001b[0mi\u001b[0m\u001b[1;33m]\u001b[0m\u001b[1;33m.\u001b[0m\u001b[0mscore\u001b[0m\u001b[1;33m)\u001b[0m\u001b[1;33m\u001b[0m\u001b[1;33m\u001b[0m\u001b[0m\n",
      "\u001b[1;31mIndexError\u001b[0m: list index out of range"
     ]
    }
   ],
   "source": [
    "# comparison between the 5 best predicted software and last 20% of test dataset\n",
    "ones = np.ones(len(excel_file_Y_t))\n",
    "for i in range(len(sorted_results)-5,len(sorted_results)):\n",
    "    #best_sw = np.tile(sorted_results[i].population,1)\n",
    "    best_sw = sorted_results[i].population\n",
    "    print(\"---NEXT INDIVIDUUM---\")\n",
    "    print(\"Fitness score of individuum: \",sorted_results[i].score)\n",
    "    print(best_sw)\n",
    "    print(\"\")\n",
    "    for software in excel_file_Y_t.columns:\n",
    "        sum_s = excel_file_Y_t[software] @ best_sw\n",
    "        print(\"Sum divided by # of ones in predicted Software\")\n",
    "        print ((sum_s/sorted_results[i].occurences))\n",
    "        print(\"Sum divided by # of ones in last 20% of software\")\n",
    "        print((sum_s/(excel_file_Y_t[software]@ ones)))\n",
    "        print(\"\")\n",
    "        \n",
    "# for i in range(len(sorted_results)-5,len(sorted_results)):\n",
    "#     print(sorted_results[i].score)\n",
    "# sorted_results[0].score"
   ]
  },
  {
   "cell_type": "code",
   "execution_count": null,
   "metadata": {
    "scrolled": true
   },
   "outputs": [],
   "source": [
    "# for obj in sorted_results:\n",
    "#     print(\"Scores\")\n",
    "#     print(obj.score)\n",
    "#     print(\"# of Ones\")\n",
    "#     print(obj.occurences)\n",
    "#     print(\"Related Chromosome\")\n",
    "#     print(obj.population)\n",
    "#     print(\"\")\n",
    "# print(obj.score)\n",
    "# len(sorted_results)"
   ]
  },
  {
   "cell_type": "code",
   "execution_count": null,
   "metadata": {
    "scrolled": true
   },
   "outputs": [],
   "source": [
    "# deprecated\n",
    "# comparison between best predicted software and last 20% of test dataset\n",
    "# techniques = excel_file_Y_t.index\n",
    "# ones = np.ones(len(excel_file_Y_t))\n",
    "# for software in excel_file_Y_t.columns:\n",
    "#     sum_s = excel_file_Y_t[software] @ best_sw \n",
    "#     print(\"Sum divided by # of ones in predicted Software\")\n",
    "#     print ((sum_s/occurrences[max_index_row]))\n",
    "#     print(\"Sum divided by # of ones in last 20% of software\")\n",
    "#     print((sum_s/(excel_file_Y_t[software]@ ones)))\n",
    "#     print(\"\")\n",
    "#     for t in techniques:\n",
    "#         if best_sw [index] ==1:\n",
    "#         #counter += 1\n",
    "#             print (excel_file_Y_t[software][t])\n",
    "#        index += 1"
   ]
  },
  {
   "cell_type": "code",
   "execution_count": null,
   "metadata": {},
   "outputs": [],
   "source": []
  }
 ],
 "metadata": {
  "kernelspec": {
   "display_name": "Python 3",
   "language": "python",
   "name": "python3"
  },
  "language_info": {
   "codemirror_mode": {
    "name": "ipython",
    "version": 3
   },
   "file_extension": ".py",
   "mimetype": "text/x-python",
   "name": "python",
   "nbconvert_exporter": "python",
   "pygments_lexer": "ipython3",
   "version": "3.8.5"
  }
 },
 "nbformat": 4,
 "nbformat_minor": 4
}
