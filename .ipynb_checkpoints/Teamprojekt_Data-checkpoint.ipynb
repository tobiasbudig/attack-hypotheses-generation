{
 "cells": [
  {
   "cell_type": "code",
   "execution_count": null,
   "metadata": {},
   "outputs": [],
   "source": [
    "# importiere notwendige Bibliotheken\n",
    "import requests\n",
    "import json\n",
    "from bs4 import BeautifulSoup, SoupStrainer\n",
    "import csv\n",
    "import re\n",
    "\n",
    "# speichere url in Variable\n",
    "url = 'https://attack.mitre.org/software/'\n",
    "r = requests.get(url)\n",
    "\n",
    "soup = BeautifulSoup(r.text, 'html.parser')\n",
    "\n",
    "# sucht Tabelle mit der Klasse und gibt sie aus\n",
    "software_table = soup.find('table', class_ = 'table table-bordered table-alternate mt-2')\n",
    "#print(software_table)\n",
    "\n",
    "# gehen einen Schritt tiefer, weil alle relevanten Infos im Body sind\n",
    "data = []\n",
    "for software in software_table.find_all('tbody'):\n",
    "    rows = software.find_all('tr')\n",
    "    for row in rows:\n",
    "        \n",
    "        # Speichere Namen, Link und ID\n",
    "        name = row.find('td').text.strip()\n",
    "        link = row.find('a', href = True)\n",
    "        id = link['href'].split('/')[2]\n",
    "        \n",
    "        current_url = \"https://attack.mitre.org/\" + link['href']\n",
    "        #print(current_url)\n",
    "        \n",
    "        r = requests.get(current_url)\n",
    "        soup = BeautifulSoup(r.text, 'html.parser')\n",
    "        \n",
    "        data_table = soup.find('table', class_ = 'table techniques-used table-bordered mt-2')\n",
    "        print (data_table)\n",
    "        \n",
    "        # Speichere gesammelte Daten in Dictionary\n",
    "        mydict = {\"name\": name, \"link\": link['href'], \"id\": id}\n",
    "        data.append(mydict)\n",
    "\n",
    "# speichere die Daten aus dem Dict in data \n",
    "print(data)"
   ]
  },
  {
   "cell_type": "code",
   "execution_count": null,
   "metadata": {},
   "outputs": [],
   "source": [
    "\n"
   ]
  },
  {
   "cell_type": "code",
   "execution_count": null,
   "metadata": {},
   "outputs": [],
   "source": []
  },
  {
   "cell_type": "code",
   "execution_count": null,
   "metadata": {},
   "outputs": [],
   "source": []
  },
  {
   "cell_type": "code",
   "execution_count": null,
   "metadata": {},
   "outputs": [],
   "source": []
  },
  {
   "cell_type": "code",
   "execution_count": null,
   "metadata": {},
   "outputs": [],
   "source": []
  },
  {
   "cell_type": "code",
   "execution_count": null,
   "metadata": {},
   "outputs": [],
   "source": []
  }
 ],
 "metadata": {
  "kernelspec": {
   "display_name": "Python 3",
   "language": "python",
   "name": "python3"
  },
  "language_info": {
   "codemirror_mode": {
    "name": "ipython",
    "version": 3
   },
   "file_extension": ".py",
   "mimetype": "text/x-python",
   "name": "python",
   "nbconvert_exporter": "python",
   "pygments_lexer": "ipython3",
   "version": "3.8.5"
  }
 },
 "nbformat": 4,
 "nbformat_minor": 4
}
