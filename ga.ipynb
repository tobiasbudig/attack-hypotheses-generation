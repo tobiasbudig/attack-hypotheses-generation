{
 "cells": [
  {
   "cell_type": "code",
   "execution_count": 1,
   "metadata": {},
   "outputs": [],
   "source": [
    "import numpy as np\n",
    "from ypstruct import structure"
   ]
  },
  {
   "cell_type": "code",
   "execution_count": 4,
   "metadata": {},
   "outputs": [],
   "source": [
    "def run (problem, params):\n",
    "    \n",
    "    #Problem Informationenen\n",
    "    costfunc = problem.costfunc\n",
    "    nvar = ürpblem.nvar\n",
    "    varmin = problem.varmin\n",
    "    varmax = problem.varmax\n",
    "    \n",
    "    #Parameter\n",
    "    maxit = params.maxit\n",
    "    npop = params.npop\n",
    "    \n",
    "    #Leeres Individuum (Template)\n",
    "    empty_individual = structure()\n",
    "    empty_individual.position = None\n",
    "    empty_individual.cost = None\n",
    "    \n",
    "    #Initialisieren der Population\n",
    "    pop = empty_individual.repeat(npop)\n",
    "    for i in range(0, npop):\n",
    "        pop[i].position = np.random.uniform(varmin, varmax, nvar)\n",
    "        pop[i].cost = costfunction(pop[i].position)\n",
    "        \n",
    "    #Output\n",
    "    out = structure()\n",
    "    out.pop = pop\n",
    "    return out\n"
   ]
  },
  {
   "cell_type": "code",
   "execution_count": null,
   "metadata": {},
   "outputs": [],
   "source": []
  }
 ],
 "metadata": {
  "kernelspec": {
   "display_name": "Python 3",
   "language": "python",
   "name": "python3"
  },
  "language_info": {
   "codemirror_mode": {
    "name": "ipython",
    "version": 3
   },
   "file_extension": ".py",
   "mimetype": "text/x-python",
   "name": "python",
   "nbconvert_exporter": "python",
   "pygments_lexer": "ipython3",
   "version": "3.8.5"
  }
 },
 "nbformat": 4,
 "nbformat_minor": 4
}
